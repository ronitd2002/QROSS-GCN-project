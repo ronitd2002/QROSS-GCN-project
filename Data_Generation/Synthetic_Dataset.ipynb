{
 "cells": [
  {
   "cell_type": "code",
   "execution_count": 1,
   "metadata": {},
   "outputs": [],
   "source": [
    "import random\n",
    "import math\n",
    "def tsp_generator(num_cities, instance_name, bound):\n",
    "    cities = [(random.uniform(0, bound), random.uniform(0, bound)) for _ in range(num_cities)]\n",
    "    \n",
    "    filename = \"Synthetic Dataset/\" + instance_name + \".tsp\"\n",
    "    file = open(filename,'w')\n",
    "    file.write(f\"NAME : {instance_name}\"+ '\\n')\n",
    "    file.write(\"COMMENT : \\n\")\n",
    "    file.write(\"TYPE : TSP\\n\")\n",
    "    file.write(f\"DIMENSION : {num_cities}\" +'\\n')\n",
    "    file.write(\"EDGE_WEIGHT_TYPE : EUC_2D\\n\")\n",
    "    file.write(\"NODE_COORD_SECTION \\n\")\n",
    "    for i in range(num_cities):\n",
    "        file.write(f\"{i+1} {cities[i][0]} {cities[i][1]}\"+'\\n')\n",
    "    file.close()"
   ]
  },
  {
   "cell_type": "code",
   "execution_count": 2,
   "metadata": {},
   "outputs": [],
   "source": [
    "for i in range(20):\n",
    "    tsp_generator(30, f'syn_tsp{i}', 5000)\n",
    "for i in range(21,50):\n",
    "    tsp_generator(30, f'syn_tsp{i}', 200)\n",
    "for i in range(51,80):\n",
    "    tsp_generator(30,f'syn_tsp{i}',1000)\n",
    "for i in range(81,100):\n",
    "    tsp_generator(30,f'syn_tsp{i}',500)\n",
    "for i in range(101,140):\n",
    "    tsp_generator(30,f'syn_tsp{i}',10000)"
   ]
  },
  {
   "cell_type": "code",
   "execution_count": null,
   "metadata": {},
   "outputs": [],
   "source": []
  }
 ],
 "metadata": {
  "kernelspec": {
   "display_name": "Python 3",
   "language": "python",
   "name": "python3"
  },
  "language_info": {
   "codemirror_mode": {
    "name": "ipython",
    "version": 3
   },
   "file_extension": ".py",
   "mimetype": "text/x-python",
   "name": "python",
   "nbconvert_exporter": "python",
   "pygments_lexer": "ipython3",
   "version": "3.11.3"
  },
  "orig_nbformat": 4
 },
 "nbformat": 4,
 "nbformat_minor": 2
}
