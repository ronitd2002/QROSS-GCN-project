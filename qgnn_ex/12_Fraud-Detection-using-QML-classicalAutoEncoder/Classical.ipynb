{
 "cells": [
  {
   "cell_type": "markdown",
   "id": "0e2cc5ca",
   "metadata": {},
   "source": [
    "Credit fraud detection is a binary classification problem and most of the time the dataset used to trained the model are highly imbalanced (0.17% of fraudulent data). This means that using a model that returns always 0 will have an accuray of 99% but his generatlisation will be poor and the classification of fraud data will be always 0%. That's why we will use accuracy and confusion matrix to evaluate the model espacialy for the minority class. In this notebook, we review different classical machine learning model that will be used as benchmark against the quantum ML model. Furthermore we handle the imbalanced using under sampled method and SMOTE method and compared both.\n",
    "\n",
    "The classical model used are : \n",
    "- logistic regression\n",
    "- XgBoost\n",
    "- SVC\n",
    "- MLP\n",
    "- auto Encoder\n",
    "\n",
    "In order to compare the differents approach, we use the accuracy and the confusion matrix. The accuracy allows to evaluate the overall performance of the model and the confusion matrix allows us to evaluate how the model classify the minority class.\n",
    "\n",
    "Here are the results : \n"
   ]
  },
  {
   "cell_type": "code",
   "execution_count": 183,
   "id": "4ba1346b",
   "metadata": {},
   "outputs": [],
   "source": [
    "import numpy as np\n",
    "import pandas as pd\n",
    "from pandas import *\n",
    "import matplotlib.pyplot as plt\n",
    "import xgboost as xgb # model\n",
    "import time\n",
    "import pandas as pd\n",
    "import seaborn as sn\n",
    "import matplotlib.pyplot as plt\n",
    "\n",
    "\n",
    "#Model\n",
    "from sklearn.model_selection import train_test_split\n",
    "from sklearn.metrics import confusion_matrix, precision_recall_curve, ConfusionMatrixDisplay\n",
    "from sklearn.metrics import recall_score, classification_report, auc, roc_curve\n",
    "from sklearn.metrics import precision_recall_fscore_support, f1_score\n",
    "from sklearn.preprocessing import StandardScaler\n",
    "from sklearn.metrics import classification_report, accuracy_score, roc_curve, auc\n",
    "from sklearn.decomposition import PCA\n",
    "from sklearn.linear_model import LogisticRegression\n",
    "\n",
    "#Auto Encoder with Keras\n",
    "from keras.models import Model, load_model\n",
    "from keras.layers import Input, Dense\n",
    "from keras.callbacks import ModelCheckpoint, TensorBoard\n",
    "from keras import regularizers\n",
    "\n",
    "#Manual Parameter\n",
    "SPLIT_RATIO = 0.3\n",
    "THRESHOLD_FIXED = 3"
   ]
  },
  {
   "cell_type": "markdown",
   "id": "48cc980e",
   "metadata": {},
   "source": [
    "# Import the dataset"
   ]
  },
  {
   "cell_type": "code",
   "execution_count": 3,
   "id": "cc781b4f",
   "metadata": {},
   "outputs": [
    {
     "data": {
      "text/html": [
       "<div>\n",
       "<style scoped>\n",
       "    .dataframe tbody tr th:only-of-type {\n",
       "        vertical-align: middle;\n",
       "    }\n",
       "\n",
       "    .dataframe tbody tr th {\n",
       "        vertical-align: top;\n",
       "    }\n",
       "\n",
       "    .dataframe thead th {\n",
       "        text-align: right;\n",
       "    }\n",
       "</style>\n",
       "<table border=\"1\" class=\"dataframe\">\n",
       "  <thead>\n",
       "    <tr style=\"text-align: right;\">\n",
       "      <th></th>\n",
       "      <th>Time</th>\n",
       "      <th>V1</th>\n",
       "      <th>V2</th>\n",
       "      <th>V3</th>\n",
       "      <th>V4</th>\n",
       "      <th>V5</th>\n",
       "      <th>V6</th>\n",
       "      <th>V7</th>\n",
       "      <th>V8</th>\n",
       "      <th>V9</th>\n",
       "      <th>...</th>\n",
       "      <th>V21</th>\n",
       "      <th>V22</th>\n",
       "      <th>V23</th>\n",
       "      <th>V24</th>\n",
       "      <th>V25</th>\n",
       "      <th>V26</th>\n",
       "      <th>V27</th>\n",
       "      <th>V28</th>\n",
       "      <th>Amount</th>\n",
       "      <th>Class</th>\n",
       "    </tr>\n",
       "  </thead>\n",
       "  <tbody>\n",
       "    <tr>\n",
       "      <th>0</th>\n",
       "      <td>0.0</td>\n",
       "      <td>-1.359807</td>\n",
       "      <td>-0.072781</td>\n",
       "      <td>2.536347</td>\n",
       "      <td>1.378155</td>\n",
       "      <td>-0.338321</td>\n",
       "      <td>0.462388</td>\n",
       "      <td>0.239599</td>\n",
       "      <td>0.098698</td>\n",
       "      <td>0.363787</td>\n",
       "      <td>...</td>\n",
       "      <td>-0.018307</td>\n",
       "      <td>0.277838</td>\n",
       "      <td>-0.110474</td>\n",
       "      <td>0.066928</td>\n",
       "      <td>0.128539</td>\n",
       "      <td>-0.189115</td>\n",
       "      <td>0.133558</td>\n",
       "      <td>-0.021053</td>\n",
       "      <td>149.62</td>\n",
       "      <td>0</td>\n",
       "    </tr>\n",
       "    <tr>\n",
       "      <th>1</th>\n",
       "      <td>0.0</td>\n",
       "      <td>1.191857</td>\n",
       "      <td>0.266151</td>\n",
       "      <td>0.166480</td>\n",
       "      <td>0.448154</td>\n",
       "      <td>0.060018</td>\n",
       "      <td>-0.082361</td>\n",
       "      <td>-0.078803</td>\n",
       "      <td>0.085102</td>\n",
       "      <td>-0.255425</td>\n",
       "      <td>...</td>\n",
       "      <td>-0.225775</td>\n",
       "      <td>-0.638672</td>\n",
       "      <td>0.101288</td>\n",
       "      <td>-0.339846</td>\n",
       "      <td>0.167170</td>\n",
       "      <td>0.125895</td>\n",
       "      <td>-0.008983</td>\n",
       "      <td>0.014724</td>\n",
       "      <td>2.69</td>\n",
       "      <td>0</td>\n",
       "    </tr>\n",
       "    <tr>\n",
       "      <th>2</th>\n",
       "      <td>1.0</td>\n",
       "      <td>-1.358354</td>\n",
       "      <td>-1.340163</td>\n",
       "      <td>1.773209</td>\n",
       "      <td>0.379780</td>\n",
       "      <td>-0.503198</td>\n",
       "      <td>1.800499</td>\n",
       "      <td>0.791461</td>\n",
       "      <td>0.247676</td>\n",
       "      <td>-1.514654</td>\n",
       "      <td>...</td>\n",
       "      <td>0.247998</td>\n",
       "      <td>0.771679</td>\n",
       "      <td>0.909412</td>\n",
       "      <td>-0.689281</td>\n",
       "      <td>-0.327642</td>\n",
       "      <td>-0.139097</td>\n",
       "      <td>-0.055353</td>\n",
       "      <td>-0.059752</td>\n",
       "      <td>378.66</td>\n",
       "      <td>0</td>\n",
       "    </tr>\n",
       "    <tr>\n",
       "      <th>3</th>\n",
       "      <td>1.0</td>\n",
       "      <td>-0.966272</td>\n",
       "      <td>-0.185226</td>\n",
       "      <td>1.792993</td>\n",
       "      <td>-0.863291</td>\n",
       "      <td>-0.010309</td>\n",
       "      <td>1.247203</td>\n",
       "      <td>0.237609</td>\n",
       "      <td>0.377436</td>\n",
       "      <td>-1.387024</td>\n",
       "      <td>...</td>\n",
       "      <td>-0.108300</td>\n",
       "      <td>0.005274</td>\n",
       "      <td>-0.190321</td>\n",
       "      <td>-1.175575</td>\n",
       "      <td>0.647376</td>\n",
       "      <td>-0.221929</td>\n",
       "      <td>0.062723</td>\n",
       "      <td>0.061458</td>\n",
       "      <td>123.50</td>\n",
       "      <td>0</td>\n",
       "    </tr>\n",
       "    <tr>\n",
       "      <th>4</th>\n",
       "      <td>2.0</td>\n",
       "      <td>-1.158233</td>\n",
       "      <td>0.877737</td>\n",
       "      <td>1.548718</td>\n",
       "      <td>0.403034</td>\n",
       "      <td>-0.407193</td>\n",
       "      <td>0.095921</td>\n",
       "      <td>0.592941</td>\n",
       "      <td>-0.270533</td>\n",
       "      <td>0.817739</td>\n",
       "      <td>...</td>\n",
       "      <td>-0.009431</td>\n",
       "      <td>0.798278</td>\n",
       "      <td>-0.137458</td>\n",
       "      <td>0.141267</td>\n",
       "      <td>-0.206010</td>\n",
       "      <td>0.502292</td>\n",
       "      <td>0.219422</td>\n",
       "      <td>0.215153</td>\n",
       "      <td>69.99</td>\n",
       "      <td>0</td>\n",
       "    </tr>\n",
       "  </tbody>\n",
       "</table>\n",
       "<p>5 rows × 31 columns</p>\n",
       "</div>"
      ],
      "text/plain": [
       "   Time        V1        V2        V3        V4        V5        V6        V7  \\\n",
       "0   0.0 -1.359807 -0.072781  2.536347  1.378155 -0.338321  0.462388  0.239599   \n",
       "1   0.0  1.191857  0.266151  0.166480  0.448154  0.060018 -0.082361 -0.078803   \n",
       "2   1.0 -1.358354 -1.340163  1.773209  0.379780 -0.503198  1.800499  0.791461   \n",
       "3   1.0 -0.966272 -0.185226  1.792993 -0.863291 -0.010309  1.247203  0.237609   \n",
       "4   2.0 -1.158233  0.877737  1.548718  0.403034 -0.407193  0.095921  0.592941   \n",
       "\n",
       "         V8        V9  ...       V21       V22       V23       V24       V25  \\\n",
       "0  0.098698  0.363787  ... -0.018307  0.277838 -0.110474  0.066928  0.128539   \n",
       "1  0.085102 -0.255425  ... -0.225775 -0.638672  0.101288 -0.339846  0.167170   \n",
       "2  0.247676 -1.514654  ...  0.247998  0.771679  0.909412 -0.689281 -0.327642   \n",
       "3  0.377436 -1.387024  ... -0.108300  0.005274 -0.190321 -1.175575  0.647376   \n",
       "4 -0.270533  0.817739  ... -0.009431  0.798278 -0.137458  0.141267 -0.206010   \n",
       "\n",
       "        V26       V27       V28  Amount  Class  \n",
       "0 -0.189115  0.133558 -0.021053  149.62      0  \n",
       "1  0.125895 -0.008983  0.014724    2.69      0  \n",
       "2 -0.139097 -0.055353 -0.059752  378.66      0  \n",
       "3 -0.221929  0.062723  0.061458  123.50      0  \n",
       "4  0.502292  0.219422  0.215153   69.99      0  \n",
       "\n",
       "[5 rows x 31 columns]"
      ]
     },
     "execution_count": 3,
     "metadata": {},
     "output_type": "execute_result"
    }
   ],
   "source": [
    "#data = pd.read_csv(\"creditcard.csv\")\n",
    "data = pd.read_csv(\"creditcard.csv\")\n",
    "data.head()"
   ]
  },
  {
   "cell_type": "code",
   "execution_count": 4,
   "id": "cc63d2db",
   "metadata": {},
   "outputs": [
    {
     "data": {
      "text/html": [
       "<div>\n",
       "<style scoped>\n",
       "    .dataframe tbody tr th:only-of-type {\n",
       "        vertical-align: middle;\n",
       "    }\n",
       "\n",
       "    .dataframe tbody tr th {\n",
       "        vertical-align: top;\n",
       "    }\n",
       "\n",
       "    .dataframe thead th {\n",
       "        text-align: right;\n",
       "    }\n",
       "</style>\n",
       "<table border=\"1\" class=\"dataframe\">\n",
       "  <thead>\n",
       "    <tr style=\"text-align: right;\">\n",
       "      <th></th>\n",
       "      <th>Time</th>\n",
       "      <th>V1</th>\n",
       "      <th>V2</th>\n",
       "      <th>V3</th>\n",
       "      <th>V4</th>\n",
       "      <th>V5</th>\n",
       "      <th>V6</th>\n",
       "      <th>V7</th>\n",
       "      <th>V8</th>\n",
       "      <th>V9</th>\n",
       "      <th>...</th>\n",
       "      <th>V21</th>\n",
       "      <th>V22</th>\n",
       "      <th>V23</th>\n",
       "      <th>V24</th>\n",
       "      <th>V25</th>\n",
       "      <th>V26</th>\n",
       "      <th>V27</th>\n",
       "      <th>V28</th>\n",
       "      <th>Amount</th>\n",
       "      <th>Class</th>\n",
       "    </tr>\n",
       "  </thead>\n",
       "  <tbody>\n",
       "    <tr>\n",
       "      <th>count</th>\n",
       "      <td>284807.000000</td>\n",
       "      <td>2.848070e+05</td>\n",
       "      <td>2.848070e+05</td>\n",
       "      <td>2.848070e+05</td>\n",
       "      <td>2.848070e+05</td>\n",
       "      <td>2.848070e+05</td>\n",
       "      <td>2.848070e+05</td>\n",
       "      <td>2.848070e+05</td>\n",
       "      <td>2.848070e+05</td>\n",
       "      <td>2.848070e+05</td>\n",
       "      <td>...</td>\n",
       "      <td>2.848070e+05</td>\n",
       "      <td>2.848070e+05</td>\n",
       "      <td>2.848070e+05</td>\n",
       "      <td>2.848070e+05</td>\n",
       "      <td>2.848070e+05</td>\n",
       "      <td>2.848070e+05</td>\n",
       "      <td>2.848070e+05</td>\n",
       "      <td>2.848070e+05</td>\n",
       "      <td>284807.000000</td>\n",
       "      <td>284807.000000</td>\n",
       "    </tr>\n",
       "    <tr>\n",
       "      <th>mean</th>\n",
       "      <td>94813.859575</td>\n",
       "      <td>1.168375e-15</td>\n",
       "      <td>3.416908e-16</td>\n",
       "      <td>-1.379537e-15</td>\n",
       "      <td>2.074095e-15</td>\n",
       "      <td>9.604066e-16</td>\n",
       "      <td>1.487313e-15</td>\n",
       "      <td>-5.556467e-16</td>\n",
       "      <td>1.213481e-16</td>\n",
       "      <td>-2.406331e-15</td>\n",
       "      <td>...</td>\n",
       "      <td>1.654067e-16</td>\n",
       "      <td>-3.568593e-16</td>\n",
       "      <td>2.578648e-16</td>\n",
       "      <td>4.473266e-15</td>\n",
       "      <td>5.340915e-16</td>\n",
       "      <td>1.683437e-15</td>\n",
       "      <td>-3.660091e-16</td>\n",
       "      <td>-1.227390e-16</td>\n",
       "      <td>88.349619</td>\n",
       "      <td>0.001727</td>\n",
       "    </tr>\n",
       "    <tr>\n",
       "      <th>std</th>\n",
       "      <td>47488.145955</td>\n",
       "      <td>1.958696e+00</td>\n",
       "      <td>1.651309e+00</td>\n",
       "      <td>1.516255e+00</td>\n",
       "      <td>1.415869e+00</td>\n",
       "      <td>1.380247e+00</td>\n",
       "      <td>1.332271e+00</td>\n",
       "      <td>1.237094e+00</td>\n",
       "      <td>1.194353e+00</td>\n",
       "      <td>1.098632e+00</td>\n",
       "      <td>...</td>\n",
       "      <td>7.345240e-01</td>\n",
       "      <td>7.257016e-01</td>\n",
       "      <td>6.244603e-01</td>\n",
       "      <td>6.056471e-01</td>\n",
       "      <td>5.212781e-01</td>\n",
       "      <td>4.822270e-01</td>\n",
       "      <td>4.036325e-01</td>\n",
       "      <td>3.300833e-01</td>\n",
       "      <td>250.120109</td>\n",
       "      <td>0.041527</td>\n",
       "    </tr>\n",
       "    <tr>\n",
       "      <th>min</th>\n",
       "      <td>0.000000</td>\n",
       "      <td>-5.640751e+01</td>\n",
       "      <td>-7.271573e+01</td>\n",
       "      <td>-4.832559e+01</td>\n",
       "      <td>-5.683171e+00</td>\n",
       "      <td>-1.137433e+02</td>\n",
       "      <td>-2.616051e+01</td>\n",
       "      <td>-4.355724e+01</td>\n",
       "      <td>-7.321672e+01</td>\n",
       "      <td>-1.343407e+01</td>\n",
       "      <td>...</td>\n",
       "      <td>-3.483038e+01</td>\n",
       "      <td>-1.093314e+01</td>\n",
       "      <td>-4.480774e+01</td>\n",
       "      <td>-2.836627e+00</td>\n",
       "      <td>-1.029540e+01</td>\n",
       "      <td>-2.604551e+00</td>\n",
       "      <td>-2.256568e+01</td>\n",
       "      <td>-1.543008e+01</td>\n",
       "      <td>0.000000</td>\n",
       "      <td>0.000000</td>\n",
       "    </tr>\n",
       "    <tr>\n",
       "      <th>25%</th>\n",
       "      <td>54201.500000</td>\n",
       "      <td>-9.203734e-01</td>\n",
       "      <td>-5.985499e-01</td>\n",
       "      <td>-8.903648e-01</td>\n",
       "      <td>-8.486401e-01</td>\n",
       "      <td>-6.915971e-01</td>\n",
       "      <td>-7.682956e-01</td>\n",
       "      <td>-5.540759e-01</td>\n",
       "      <td>-2.086297e-01</td>\n",
       "      <td>-6.430976e-01</td>\n",
       "      <td>...</td>\n",
       "      <td>-2.283949e-01</td>\n",
       "      <td>-5.423504e-01</td>\n",
       "      <td>-1.618463e-01</td>\n",
       "      <td>-3.545861e-01</td>\n",
       "      <td>-3.171451e-01</td>\n",
       "      <td>-3.269839e-01</td>\n",
       "      <td>-7.083953e-02</td>\n",
       "      <td>-5.295979e-02</td>\n",
       "      <td>5.600000</td>\n",
       "      <td>0.000000</td>\n",
       "    </tr>\n",
       "    <tr>\n",
       "      <th>50%</th>\n",
       "      <td>84692.000000</td>\n",
       "      <td>1.810880e-02</td>\n",
       "      <td>6.548556e-02</td>\n",
       "      <td>1.798463e-01</td>\n",
       "      <td>-1.984653e-02</td>\n",
       "      <td>-5.433583e-02</td>\n",
       "      <td>-2.741871e-01</td>\n",
       "      <td>4.010308e-02</td>\n",
       "      <td>2.235804e-02</td>\n",
       "      <td>-5.142873e-02</td>\n",
       "      <td>...</td>\n",
       "      <td>-2.945017e-02</td>\n",
       "      <td>6.781943e-03</td>\n",
       "      <td>-1.119293e-02</td>\n",
       "      <td>4.097606e-02</td>\n",
       "      <td>1.659350e-02</td>\n",
       "      <td>-5.213911e-02</td>\n",
       "      <td>1.342146e-03</td>\n",
       "      <td>1.124383e-02</td>\n",
       "      <td>22.000000</td>\n",
       "      <td>0.000000</td>\n",
       "    </tr>\n",
       "    <tr>\n",
       "      <th>75%</th>\n",
       "      <td>139320.500000</td>\n",
       "      <td>1.315642e+00</td>\n",
       "      <td>8.037239e-01</td>\n",
       "      <td>1.027196e+00</td>\n",
       "      <td>7.433413e-01</td>\n",
       "      <td>6.119264e-01</td>\n",
       "      <td>3.985649e-01</td>\n",
       "      <td>5.704361e-01</td>\n",
       "      <td>3.273459e-01</td>\n",
       "      <td>5.971390e-01</td>\n",
       "      <td>...</td>\n",
       "      <td>1.863772e-01</td>\n",
       "      <td>5.285536e-01</td>\n",
       "      <td>1.476421e-01</td>\n",
       "      <td>4.395266e-01</td>\n",
       "      <td>3.507156e-01</td>\n",
       "      <td>2.409522e-01</td>\n",
       "      <td>9.104512e-02</td>\n",
       "      <td>7.827995e-02</td>\n",
       "      <td>77.165000</td>\n",
       "      <td>0.000000</td>\n",
       "    </tr>\n",
       "    <tr>\n",
       "      <th>max</th>\n",
       "      <td>172792.000000</td>\n",
       "      <td>2.454930e+00</td>\n",
       "      <td>2.205773e+01</td>\n",
       "      <td>9.382558e+00</td>\n",
       "      <td>1.687534e+01</td>\n",
       "      <td>3.480167e+01</td>\n",
       "      <td>7.330163e+01</td>\n",
       "      <td>1.205895e+02</td>\n",
       "      <td>2.000721e+01</td>\n",
       "      <td>1.559499e+01</td>\n",
       "      <td>...</td>\n",
       "      <td>2.720284e+01</td>\n",
       "      <td>1.050309e+01</td>\n",
       "      <td>2.252841e+01</td>\n",
       "      <td>4.584549e+00</td>\n",
       "      <td>7.519589e+00</td>\n",
       "      <td>3.517346e+00</td>\n",
       "      <td>3.161220e+01</td>\n",
       "      <td>3.384781e+01</td>\n",
       "      <td>25691.160000</td>\n",
       "      <td>1.000000</td>\n",
       "    </tr>\n",
       "  </tbody>\n",
       "</table>\n",
       "<p>8 rows × 31 columns</p>\n",
       "</div>"
      ],
      "text/plain": [
       "                Time            V1            V2            V3            V4  \\\n",
       "count  284807.000000  2.848070e+05  2.848070e+05  2.848070e+05  2.848070e+05   \n",
       "mean    94813.859575  1.168375e-15  3.416908e-16 -1.379537e-15  2.074095e-15   \n",
       "std     47488.145955  1.958696e+00  1.651309e+00  1.516255e+00  1.415869e+00   \n",
       "min         0.000000 -5.640751e+01 -7.271573e+01 -4.832559e+01 -5.683171e+00   \n",
       "25%     54201.500000 -9.203734e-01 -5.985499e-01 -8.903648e-01 -8.486401e-01   \n",
       "50%     84692.000000  1.810880e-02  6.548556e-02  1.798463e-01 -1.984653e-02   \n",
       "75%    139320.500000  1.315642e+00  8.037239e-01  1.027196e+00  7.433413e-01   \n",
       "max    172792.000000  2.454930e+00  2.205773e+01  9.382558e+00  1.687534e+01   \n",
       "\n",
       "                 V5            V6            V7            V8            V9  \\\n",
       "count  2.848070e+05  2.848070e+05  2.848070e+05  2.848070e+05  2.848070e+05   \n",
       "mean   9.604066e-16  1.487313e-15 -5.556467e-16  1.213481e-16 -2.406331e-15   \n",
       "std    1.380247e+00  1.332271e+00  1.237094e+00  1.194353e+00  1.098632e+00   \n",
       "min   -1.137433e+02 -2.616051e+01 -4.355724e+01 -7.321672e+01 -1.343407e+01   \n",
       "25%   -6.915971e-01 -7.682956e-01 -5.540759e-01 -2.086297e-01 -6.430976e-01   \n",
       "50%   -5.433583e-02 -2.741871e-01  4.010308e-02  2.235804e-02 -5.142873e-02   \n",
       "75%    6.119264e-01  3.985649e-01  5.704361e-01  3.273459e-01  5.971390e-01   \n",
       "max    3.480167e+01  7.330163e+01  1.205895e+02  2.000721e+01  1.559499e+01   \n",
       "\n",
       "       ...           V21           V22           V23           V24  \\\n",
       "count  ...  2.848070e+05  2.848070e+05  2.848070e+05  2.848070e+05   \n",
       "mean   ...  1.654067e-16 -3.568593e-16  2.578648e-16  4.473266e-15   \n",
       "std    ...  7.345240e-01  7.257016e-01  6.244603e-01  6.056471e-01   \n",
       "min    ... -3.483038e+01 -1.093314e+01 -4.480774e+01 -2.836627e+00   \n",
       "25%    ... -2.283949e-01 -5.423504e-01 -1.618463e-01 -3.545861e-01   \n",
       "50%    ... -2.945017e-02  6.781943e-03 -1.119293e-02  4.097606e-02   \n",
       "75%    ...  1.863772e-01  5.285536e-01  1.476421e-01  4.395266e-01   \n",
       "max    ...  2.720284e+01  1.050309e+01  2.252841e+01  4.584549e+00   \n",
       "\n",
       "                V25           V26           V27           V28         Amount  \\\n",
       "count  2.848070e+05  2.848070e+05  2.848070e+05  2.848070e+05  284807.000000   \n",
       "mean   5.340915e-16  1.683437e-15 -3.660091e-16 -1.227390e-16      88.349619   \n",
       "std    5.212781e-01  4.822270e-01  4.036325e-01  3.300833e-01     250.120109   \n",
       "min   -1.029540e+01 -2.604551e+00 -2.256568e+01 -1.543008e+01       0.000000   \n",
       "25%   -3.171451e-01 -3.269839e-01 -7.083953e-02 -5.295979e-02       5.600000   \n",
       "50%    1.659350e-02 -5.213911e-02  1.342146e-03  1.124383e-02      22.000000   \n",
       "75%    3.507156e-01  2.409522e-01  9.104512e-02  7.827995e-02      77.165000   \n",
       "max    7.519589e+00  3.517346e+00  3.161220e+01  3.384781e+01   25691.160000   \n",
       "\n",
       "               Class  \n",
       "count  284807.000000  \n",
       "mean        0.001727  \n",
       "std         0.041527  \n",
       "min         0.000000  \n",
       "25%         0.000000  \n",
       "50%         0.000000  \n",
       "75%         0.000000  \n",
       "max         1.000000  \n",
       "\n",
       "[8 rows x 31 columns]"
      ]
     },
     "execution_count": 4,
     "metadata": {},
     "output_type": "execute_result"
    }
   ],
   "source": [
    "data.describe()"
   ]
  },
  {
   "cell_type": "code",
   "execution_count": 5,
   "id": "d86eaf89",
   "metadata": {},
   "outputs": [
    {
     "name": "stdout",
     "output_type": "stream",
     "text": [
      "count NA value : 0\n",
      "nb of features : 31\n",
      "nb of samples : 284807\n"
     ]
    }
   ],
   "source": [
    "print(\"count NA value : \"+str(data.isna().sum().sum()))\n",
    "print(\"nb of features : \"+str(data.shape[1]))\n",
    "print(\"nb of samples : \"+str(data.shape[0]))"
   ]
  },
  {
   "cell_type": "code",
   "execution_count": 6,
   "id": "ecfeb7e4",
   "metadata": {},
   "outputs": [],
   "source": [
    "#Normalization of Amount and Time\n",
    "# We do not change the other columns since they come from an internal normalization\n",
    "data_norm = data.copy()\n",
    "# Reshape your data either using array.reshape(-1, 1) if your data has a single feature\n",
    "# or array.reshape(1, -1) if it contains a single sample.\n",
    "data_norm['Time'] = StandardScaler().fit_transform(data_norm['Time'].values.reshape(-1, 1))\n",
    "data_norm['Amount'] = StandardScaler().fit_transform(data_norm['Amount'].values.reshape(-1, 1))\n"
   ]
  },
  {
   "cell_type": "code",
   "execution_count": 7,
   "id": "fb86e0a5",
   "metadata": {},
   "outputs": [
    {
     "data": {
      "text/html": [
       "<div>\n",
       "<style scoped>\n",
       "    .dataframe tbody tr th:only-of-type {\n",
       "        vertical-align: middle;\n",
       "    }\n",
       "\n",
       "    .dataframe tbody tr th {\n",
       "        vertical-align: top;\n",
       "    }\n",
       "\n",
       "    .dataframe thead th {\n",
       "        text-align: right;\n",
       "    }\n",
       "</style>\n",
       "<table border=\"1\" class=\"dataframe\">\n",
       "  <thead>\n",
       "    <tr style=\"text-align: right;\">\n",
       "      <th></th>\n",
       "      <th>Time</th>\n",
       "      <th>V1</th>\n",
       "      <th>V2</th>\n",
       "      <th>V3</th>\n",
       "      <th>V4</th>\n",
       "      <th>V5</th>\n",
       "      <th>V6</th>\n",
       "      <th>V7</th>\n",
       "      <th>V8</th>\n",
       "      <th>V9</th>\n",
       "      <th>...</th>\n",
       "      <th>V21</th>\n",
       "      <th>V22</th>\n",
       "      <th>V23</th>\n",
       "      <th>V24</th>\n",
       "      <th>V25</th>\n",
       "      <th>V26</th>\n",
       "      <th>V27</th>\n",
       "      <th>V28</th>\n",
       "      <th>Amount</th>\n",
       "      <th>Class</th>\n",
       "    </tr>\n",
       "  </thead>\n",
       "  <tbody>\n",
       "    <tr>\n",
       "      <th>count</th>\n",
       "      <td>2.848070e+05</td>\n",
       "      <td>2.848070e+05</td>\n",
       "      <td>2.848070e+05</td>\n",
       "      <td>2.848070e+05</td>\n",
       "      <td>2.848070e+05</td>\n",
       "      <td>2.848070e+05</td>\n",
       "      <td>2.848070e+05</td>\n",
       "      <td>2.848070e+05</td>\n",
       "      <td>2.848070e+05</td>\n",
       "      <td>2.848070e+05</td>\n",
       "      <td>...</td>\n",
       "      <td>2.848070e+05</td>\n",
       "      <td>2.848070e+05</td>\n",
       "      <td>2.848070e+05</td>\n",
       "      <td>2.848070e+05</td>\n",
       "      <td>2.848070e+05</td>\n",
       "      <td>2.848070e+05</td>\n",
       "      <td>2.848070e+05</td>\n",
       "      <td>2.848070e+05</td>\n",
       "      <td>2.848070e+05</td>\n",
       "      <td>284807.000000</td>\n",
       "    </tr>\n",
       "    <tr>\n",
       "      <th>mean</th>\n",
       "      <td>-3.065637e-16</td>\n",
       "      <td>1.168375e-15</td>\n",
       "      <td>3.416908e-16</td>\n",
       "      <td>-1.379537e-15</td>\n",
       "      <td>2.074095e-15</td>\n",
       "      <td>9.604066e-16</td>\n",
       "      <td>1.487313e-15</td>\n",
       "      <td>-5.556467e-16</td>\n",
       "      <td>1.213481e-16</td>\n",
       "      <td>-2.406331e-15</td>\n",
       "      <td>...</td>\n",
       "      <td>1.654067e-16</td>\n",
       "      <td>-3.568593e-16</td>\n",
       "      <td>2.578648e-16</td>\n",
       "      <td>4.473266e-15</td>\n",
       "      <td>5.340915e-16</td>\n",
       "      <td>1.683437e-15</td>\n",
       "      <td>-3.660091e-16</td>\n",
       "      <td>-1.227390e-16</td>\n",
       "      <td>2.913952e-17</td>\n",
       "      <td>0.001727</td>\n",
       "    </tr>\n",
       "    <tr>\n",
       "      <th>std</th>\n",
       "      <td>1.000002e+00</td>\n",
       "      <td>1.958696e+00</td>\n",
       "      <td>1.651309e+00</td>\n",
       "      <td>1.516255e+00</td>\n",
       "      <td>1.415869e+00</td>\n",
       "      <td>1.380247e+00</td>\n",
       "      <td>1.332271e+00</td>\n",
       "      <td>1.237094e+00</td>\n",
       "      <td>1.194353e+00</td>\n",
       "      <td>1.098632e+00</td>\n",
       "      <td>...</td>\n",
       "      <td>7.345240e-01</td>\n",
       "      <td>7.257016e-01</td>\n",
       "      <td>6.244603e-01</td>\n",
       "      <td>6.056471e-01</td>\n",
       "      <td>5.212781e-01</td>\n",
       "      <td>4.822270e-01</td>\n",
       "      <td>4.036325e-01</td>\n",
       "      <td>3.300833e-01</td>\n",
       "      <td>1.000002e+00</td>\n",
       "      <td>0.041527</td>\n",
       "    </tr>\n",
       "    <tr>\n",
       "      <th>min</th>\n",
       "      <td>-1.996583e+00</td>\n",
       "      <td>-5.640751e+01</td>\n",
       "      <td>-7.271573e+01</td>\n",
       "      <td>-4.832559e+01</td>\n",
       "      <td>-5.683171e+00</td>\n",
       "      <td>-1.137433e+02</td>\n",
       "      <td>-2.616051e+01</td>\n",
       "      <td>-4.355724e+01</td>\n",
       "      <td>-7.321672e+01</td>\n",
       "      <td>-1.343407e+01</td>\n",
       "      <td>...</td>\n",
       "      <td>-3.483038e+01</td>\n",
       "      <td>-1.093314e+01</td>\n",
       "      <td>-4.480774e+01</td>\n",
       "      <td>-2.836627e+00</td>\n",
       "      <td>-1.029540e+01</td>\n",
       "      <td>-2.604551e+00</td>\n",
       "      <td>-2.256568e+01</td>\n",
       "      <td>-1.543008e+01</td>\n",
       "      <td>-3.532294e-01</td>\n",
       "      <td>0.000000</td>\n",
       "    </tr>\n",
       "    <tr>\n",
       "      <th>25%</th>\n",
       "      <td>-8.552120e-01</td>\n",
       "      <td>-9.203734e-01</td>\n",
       "      <td>-5.985499e-01</td>\n",
       "      <td>-8.903648e-01</td>\n",
       "      <td>-8.486401e-01</td>\n",
       "      <td>-6.915971e-01</td>\n",
       "      <td>-7.682956e-01</td>\n",
       "      <td>-5.540759e-01</td>\n",
       "      <td>-2.086297e-01</td>\n",
       "      <td>-6.430976e-01</td>\n",
       "      <td>...</td>\n",
       "      <td>-2.283949e-01</td>\n",
       "      <td>-5.423504e-01</td>\n",
       "      <td>-1.618463e-01</td>\n",
       "      <td>-3.545861e-01</td>\n",
       "      <td>-3.171451e-01</td>\n",
       "      <td>-3.269839e-01</td>\n",
       "      <td>-7.083953e-02</td>\n",
       "      <td>-5.295979e-02</td>\n",
       "      <td>-3.308401e-01</td>\n",
       "      <td>0.000000</td>\n",
       "    </tr>\n",
       "    <tr>\n",
       "      <th>50%</th>\n",
       "      <td>-2.131453e-01</td>\n",
       "      <td>1.810880e-02</td>\n",
       "      <td>6.548556e-02</td>\n",
       "      <td>1.798463e-01</td>\n",
       "      <td>-1.984653e-02</td>\n",
       "      <td>-5.433583e-02</td>\n",
       "      <td>-2.741871e-01</td>\n",
       "      <td>4.010308e-02</td>\n",
       "      <td>2.235804e-02</td>\n",
       "      <td>-5.142873e-02</td>\n",
       "      <td>...</td>\n",
       "      <td>-2.945017e-02</td>\n",
       "      <td>6.781943e-03</td>\n",
       "      <td>-1.119293e-02</td>\n",
       "      <td>4.097606e-02</td>\n",
       "      <td>1.659350e-02</td>\n",
       "      <td>-5.213911e-02</td>\n",
       "      <td>1.342146e-03</td>\n",
       "      <td>1.124383e-02</td>\n",
       "      <td>-2.652715e-01</td>\n",
       "      <td>0.000000</td>\n",
       "    </tr>\n",
       "    <tr>\n",
       "      <th>75%</th>\n",
       "      <td>9.372174e-01</td>\n",
       "      <td>1.315642e+00</td>\n",
       "      <td>8.037239e-01</td>\n",
       "      <td>1.027196e+00</td>\n",
       "      <td>7.433413e-01</td>\n",
       "      <td>6.119264e-01</td>\n",
       "      <td>3.985649e-01</td>\n",
       "      <td>5.704361e-01</td>\n",
       "      <td>3.273459e-01</td>\n",
       "      <td>5.971390e-01</td>\n",
       "      <td>...</td>\n",
       "      <td>1.863772e-01</td>\n",
       "      <td>5.285536e-01</td>\n",
       "      <td>1.476421e-01</td>\n",
       "      <td>4.395266e-01</td>\n",
       "      <td>3.507156e-01</td>\n",
       "      <td>2.409522e-01</td>\n",
       "      <td>9.104512e-02</td>\n",
       "      <td>7.827995e-02</td>\n",
       "      <td>-4.471707e-02</td>\n",
       "      <td>0.000000</td>\n",
       "    </tr>\n",
       "    <tr>\n",
       "      <th>max</th>\n",
       "      <td>1.642058e+00</td>\n",
       "      <td>2.454930e+00</td>\n",
       "      <td>2.205773e+01</td>\n",
       "      <td>9.382558e+00</td>\n",
       "      <td>1.687534e+01</td>\n",
       "      <td>3.480167e+01</td>\n",
       "      <td>7.330163e+01</td>\n",
       "      <td>1.205895e+02</td>\n",
       "      <td>2.000721e+01</td>\n",
       "      <td>1.559499e+01</td>\n",
       "      <td>...</td>\n",
       "      <td>2.720284e+01</td>\n",
       "      <td>1.050309e+01</td>\n",
       "      <td>2.252841e+01</td>\n",
       "      <td>4.584549e+00</td>\n",
       "      <td>7.519589e+00</td>\n",
       "      <td>3.517346e+00</td>\n",
       "      <td>3.161220e+01</td>\n",
       "      <td>3.384781e+01</td>\n",
       "      <td>1.023622e+02</td>\n",
       "      <td>1.000000</td>\n",
       "    </tr>\n",
       "  </tbody>\n",
       "</table>\n",
       "<p>8 rows × 31 columns</p>\n",
       "</div>"
      ],
      "text/plain": [
       "               Time            V1            V2            V3            V4  \\\n",
       "count  2.848070e+05  2.848070e+05  2.848070e+05  2.848070e+05  2.848070e+05   \n",
       "mean  -3.065637e-16  1.168375e-15  3.416908e-16 -1.379537e-15  2.074095e-15   \n",
       "std    1.000002e+00  1.958696e+00  1.651309e+00  1.516255e+00  1.415869e+00   \n",
       "min   -1.996583e+00 -5.640751e+01 -7.271573e+01 -4.832559e+01 -5.683171e+00   \n",
       "25%   -8.552120e-01 -9.203734e-01 -5.985499e-01 -8.903648e-01 -8.486401e-01   \n",
       "50%   -2.131453e-01  1.810880e-02  6.548556e-02  1.798463e-01 -1.984653e-02   \n",
       "75%    9.372174e-01  1.315642e+00  8.037239e-01  1.027196e+00  7.433413e-01   \n",
       "max    1.642058e+00  2.454930e+00  2.205773e+01  9.382558e+00  1.687534e+01   \n",
       "\n",
       "                 V5            V6            V7            V8            V9  \\\n",
       "count  2.848070e+05  2.848070e+05  2.848070e+05  2.848070e+05  2.848070e+05   \n",
       "mean   9.604066e-16  1.487313e-15 -5.556467e-16  1.213481e-16 -2.406331e-15   \n",
       "std    1.380247e+00  1.332271e+00  1.237094e+00  1.194353e+00  1.098632e+00   \n",
       "min   -1.137433e+02 -2.616051e+01 -4.355724e+01 -7.321672e+01 -1.343407e+01   \n",
       "25%   -6.915971e-01 -7.682956e-01 -5.540759e-01 -2.086297e-01 -6.430976e-01   \n",
       "50%   -5.433583e-02 -2.741871e-01  4.010308e-02  2.235804e-02 -5.142873e-02   \n",
       "75%    6.119264e-01  3.985649e-01  5.704361e-01  3.273459e-01  5.971390e-01   \n",
       "max    3.480167e+01  7.330163e+01  1.205895e+02  2.000721e+01  1.559499e+01   \n",
       "\n",
       "       ...           V21           V22           V23           V24  \\\n",
       "count  ...  2.848070e+05  2.848070e+05  2.848070e+05  2.848070e+05   \n",
       "mean   ...  1.654067e-16 -3.568593e-16  2.578648e-16  4.473266e-15   \n",
       "std    ...  7.345240e-01  7.257016e-01  6.244603e-01  6.056471e-01   \n",
       "min    ... -3.483038e+01 -1.093314e+01 -4.480774e+01 -2.836627e+00   \n",
       "25%    ... -2.283949e-01 -5.423504e-01 -1.618463e-01 -3.545861e-01   \n",
       "50%    ... -2.945017e-02  6.781943e-03 -1.119293e-02  4.097606e-02   \n",
       "75%    ...  1.863772e-01  5.285536e-01  1.476421e-01  4.395266e-01   \n",
       "max    ...  2.720284e+01  1.050309e+01  2.252841e+01  4.584549e+00   \n",
       "\n",
       "                V25           V26           V27           V28        Amount  \\\n",
       "count  2.848070e+05  2.848070e+05  2.848070e+05  2.848070e+05  2.848070e+05   \n",
       "mean   5.340915e-16  1.683437e-15 -3.660091e-16 -1.227390e-16  2.913952e-17   \n",
       "std    5.212781e-01  4.822270e-01  4.036325e-01  3.300833e-01  1.000002e+00   \n",
       "min   -1.029540e+01 -2.604551e+00 -2.256568e+01 -1.543008e+01 -3.532294e-01   \n",
       "25%   -3.171451e-01 -3.269839e-01 -7.083953e-02 -5.295979e-02 -3.308401e-01   \n",
       "50%    1.659350e-02 -5.213911e-02  1.342146e-03  1.124383e-02 -2.652715e-01   \n",
       "75%    3.507156e-01  2.409522e-01  9.104512e-02  7.827995e-02 -4.471707e-02   \n",
       "max    7.519589e+00  3.517346e+00  3.161220e+01  3.384781e+01  1.023622e+02   \n",
       "\n",
       "               Class  \n",
       "count  284807.000000  \n",
       "mean        0.001727  \n",
       "std         0.041527  \n",
       "min         0.000000  \n",
       "25%         0.000000  \n",
       "50%         0.000000  \n",
       "75%         0.000000  \n",
       "max         1.000000  \n",
       "\n",
       "[8 rows x 31 columns]"
      ]
     },
     "execution_count": 7,
     "metadata": {},
     "output_type": "execute_result"
    }
   ],
   "source": [
    "data_norm.describe()"
   ]
  },
  {
   "cell_type": "code",
   "execution_count": 8,
   "id": "a25a363c",
   "metadata": {},
   "outputs": [],
   "source": [
    "X = data_norm.iloc [:, data_norm.columns != 'Class']\n",
    "y = data_norm.iloc [:, data_norm.columns == 'Class']"
   ]
  },
  {
   "cell_type": "code",
   "execution_count": 9,
   "id": "c9ed3bab",
   "metadata": {},
   "outputs": [
    {
     "name": "stdout",
     "output_type": "stream",
     "text": [
      "nb of fraud data : 284315\n",
      "nb of fraud data : 492\n",
      "% of fraud data : 0.1727485630620034\n",
      "X data shape : (284807, 30)\n",
      "y data shape : (284807, 1)\n"
     ]
    }
   ],
   "source": [
    "print(\"nb of fraud data : \"+str(len(data_norm[\"Class\"][data_norm[\"Class\"]==0])))\n",
    "print(\"nb of fraud data : \"+str(len(data_norm[\"Class\"][data_norm[\"Class\"]==1])))\n",
    "print(\"% of fraud data : \"+str(len(data_norm[\"Class\"][data_norm[\"Class\"]==1])/data_norm.shape[0] * 100))\n",
    "print(\"X data shape : \"+str(X.shape))\n",
    "print(\"y data shape : \"+str(y.shape))"
   ]
  },
  {
   "cell_type": "markdown",
   "id": "496c9af9",
   "metadata": {},
   "source": [
    "### Remark\n",
    "The data set is highly unbalanced, we use 2 methods to balanced it : under sample and SMOTE"
   ]
  },
  {
   "cell_type": "markdown",
   "id": "2731bac5",
   "metadata": {},
   "source": [
    "# Balanced data set\n",
    "\n",
    "There exists differents methods to balanced dataset, we will have a look of the 3 most importants : \n",
    "- undersampling\n",
    "- oversampling\n",
    "- SMOTE"
   ]
  },
  {
   "cell_type": "markdown",
   "id": "8a54537c",
   "metadata": {},
   "source": [
    "## under sample method\n",
    "\n",
    "The methods consists to reduce the size of the majority class, thus the frequency of minority classes increase. This approach is interesting for Quantum model since it allows us to train the model on a reduced data set and avoid the issue of training QML on large data set which currently an issue with current simulator (time to train can be really long : month of training)"
   ]
  },
  {
   "cell_type": "code",
   "execution_count": 10,
   "id": "eb1274de",
   "metadata": {},
   "outputs": [],
   "source": [
    "fraud_indices = np.array (data_norm[data_norm.Class==1].index)\n",
    "normal_indices = np.array (data_norm[data_norm.Class==0].index)\n",
    "number_records_fraud = len(fraud_indices)\n",
    "\n",
    "# we reduce the size of the majority class\n",
    "random_normal_indices = np.random.choice (normal_indices, number_records_fraud, replace = False )\n",
    "# we combine both\n",
    "under_sample_indices = np.concatenate ([fraud_indices, random_normal_indices])\n",
    "# we generate the undersample dataset\n",
    "under_sample_data = data_norm.iloc[under_sample_indices,:]\n",
    "# Separamos la X de la y de nuevo\n",
    "X_undersample = under_sample_data.iloc [:, under_sample_data.columns != 'Class'];\n",
    "y_undersample = under_sample_data.iloc [:, under_sample_data.columns == 'Class'];"
   ]
  },
  {
   "cell_type": "code",
   "execution_count": 11,
   "id": "b4cf0e04",
   "metadata": {},
   "outputs": [
    {
     "data": {
      "text/plain": [
       "(984, 31)"
      ]
     },
     "execution_count": 11,
     "metadata": {},
     "output_type": "execute_result"
    }
   ],
   "source": [
    "under_sample_data.shape"
   ]
  },
  {
   "cell_type": "code",
   "execution_count": 12,
   "id": "65c54edd",
   "metadata": {},
   "outputs": [
    {
     "name": "stdout",
     "output_type": "stream",
     "text": [
      "nb of fraud data : 492\n",
      "nb of fraud data : 492\n",
      "% of fraud data : 50.0\n"
     ]
    }
   ],
   "source": [
    "print(\"nb of fraud data : \"+str(len(under_sample_data[\"Class\"][under_sample_data[\"Class\"]==0])))\n",
    "print(\"nb of fraud data : \"+str(len(under_sample_data[\"Class\"][under_sample_data[\"Class\"]==1])))\n",
    "print(\"% of fraud data : \"+str(len(under_sample_data[\"Class\"][under_sample_data[\"Class\"]==1])/under_sample_data.shape[0] * 100))"
   ]
  },
  {
   "cell_type": "markdown",
   "id": "2d071a23",
   "metadata": {},
   "source": [
    "# SMOTE"
   ]
  },
  {
   "cell_type": "code",
   "execution_count": null,
   "id": "1f4447ce",
   "metadata": {},
   "outputs": [],
   "source": []
  },
  {
   "cell_type": "markdown",
   "id": "71ec9f90",
   "metadata": {},
   "source": [
    "# Split data : train/test"
   ]
  },
  {
   "cell_type": "code",
   "execution_count": 13,
   "id": "c231d943",
   "metadata": {},
   "outputs": [],
   "source": [
    "X_train, X_test, y_train, y_test = train_test_split (X,y, test_size = SPLIT_RATIO, random_state = 0)\n",
    "X_train_under, X_test_under, y_train_under, y_test_under = train_test_split (X_undersample,y_undersample, test_size = SPLIT_RATIO, random_state = 0)"
   ]
  },
  {
   "cell_type": "markdown",
   "id": "3027e96b",
   "metadata": {},
   "source": [
    "# Classical Model"
   ]
  },
  {
   "cell_type": "markdown",
   "id": "9ca96b3b",
   "metadata": {},
   "source": [
    "## Linear Regression"
   ]
  },
  {
   "cell_type": "code",
   "execution_count": 14,
   "id": "4948cd22",
   "metadata": {},
   "outputs": [],
   "source": [
    "modelLR = LogisticRegression(\n",
    "    penalty='l2', \n",
    "    tol=0.0001, \n",
    "    C=1.0, \n",
    "    solver='lbfgs', \n",
    "    max_iter=1000\n",
    ")"
   ]
  },
  {
   "cell_type": "markdown",
   "id": "e1282261",
   "metadata": {},
   "source": [
    "# Training with under sampled data set"
   ]
  },
  {
   "cell_type": "code",
   "execution_count": 15,
   "id": "1c700313",
   "metadata": {},
   "outputs": [
    {
     "name": "stdout",
     "output_type": "stream",
     "text": [
      "Training takes: 0 seconds\n"
     ]
    }
   ],
   "source": [
    "# train on balanced dataset\n",
    "train_start_time = time.time()\n",
    "eval_set=[(X_test_under,y_test_under)]\n",
    "modelLR.fit(X_train_under, np.ravel(y_train_under))\n",
    "train_end_time = time.time()\n",
    "\n",
    "print(\"Training takes:\", int(train_end_time-train_start_time), \"seconds\")"
   ]
  },
  {
   "cell_type": "code",
   "execution_count": 35,
   "id": "07ba6885",
   "metadata": {},
   "outputs": [
    {
     "data": {
      "image/png": "[encoded data removed]",
      "text/plain": [
       "<Figure size 432x288 with 2 Axes>"
      ]
     },
     "metadata": {
      "needs_background": "light"
     },
     "output_type": "display_data"
    }
   ],
   "source": [
    "#result on training data\n",
    "preds = modelLR.predict(X_train_under)\n",
    "cm = confusion_matrix(y_train_under, preds, labels=modelLR.classes_,normalize='true')\n",
    "disp = ConfusionMatrixDisplay(confusion_matrix=cm, display_labels=[\"not_fraud\", \"fraud\"])\n",
    "disp.plot()\n",
    "plt.show()"
   ]
  },
  {
   "cell_type": "code",
   "execution_count": 36,
   "id": "aa5f8b7b",
   "metadata": {},
   "outputs": [
    {
     "data": {
      "image/png": "[encoded data removed]",
      "text/plain": [
       "<Figure size 432x288 with 2 Axes>"
      ]
     },
     "metadata": {
      "needs_background": "light"
     },
     "output_type": "display_data"
    }
   ],
   "source": [
    "#result on test data (undersample)\n",
    "preds = modelLR.predict(X_test_under)\n",
    "cm = confusion_matrix(y_test_under, preds, labels=modelLR.classes_,normalize='true')\n",
    "disp = ConfusionMatrixDisplay(confusion_matrix=cm, display_labels=[\"not_fraud\", \"fraud\"])\n",
    "disp.plot()\n",
    "plt.show()"
   ]
  },
  {
   "cell_type": "code",
   "execution_count": 18,
   "id": "ec7cbd06",
   "metadata": {},
   "outputs": [
    {
     "name": "stdout",
     "output_type": "stream",
     "text": [
      "\n",
      "Classification Report: \n",
      "              precision    recall  f1-score   support\n",
      "\n",
      "           0       0.92      0.95      0.93       149\n",
      "           1       0.94      0.92      0.93       147\n",
      "\n",
      "    accuracy                           0.93       296\n",
      "   macro avg       0.93      0.93      0.93       296\n",
      "weighted avg       0.93      0.93      0.93       296\n",
      "\n",
      "\n",
      "Accuracy Score:  0.9324324324324325\n"
     ]
    }
   ],
   "source": [
    "print (\"\")\n",
    "print (\"Classification Report: \")\n",
    "print (classification_report(y_test_under, preds))\n",
    "\n",
    "print (\"\")\n",
    "print (\"Accuracy Score: \", accuracy_score(y_test_under, preds))"
   ]
  },
  {
   "cell_type": "code",
   "execution_count": 37,
   "id": "7fc59436",
   "metadata": {},
   "outputs": [
    {
     "data": {
      "image/png": "[encoded data removed]",
      "text/plain": [
       "<Figure size 432x288 with 2 Axes>"
      ]
     },
     "metadata": {
      "needs_background": "light"
     },
     "output_type": "display_data"
    }
   ],
   "source": [
    "# we apply it to the test data seet not under sampled\n",
    "preds = modelLR.predict(X_test)\n",
    "cm = confusion_matrix(y_test, preds, labels=modelLR.classes_,normalize='true')\n",
    "disp = ConfusionMatrixDisplay(confusion_matrix=cm, display_labels=[\"not_fraud\", \"fraud\"])\n",
    "disp.plot()\n",
    "plt.show()"
   ]
  },
  {
   "cell_type": "code",
   "execution_count": 20,
   "id": "8fe1f76b",
   "metadata": {},
   "outputs": [
    {
     "name": "stdout",
     "output_type": "stream",
     "text": [
      "\n",
      "Classification Report: \n",
      "              precision    recall  f1-score   support\n",
      "\n",
      "           0       1.00      0.96      0.98     85296\n",
      "           1       0.04      0.94      0.08       147\n",
      "\n",
      "    accuracy                           0.96     85443\n",
      "   macro avg       0.52      0.95      0.53     85443\n",
      "weighted avg       1.00      0.96      0.98     85443\n",
      "\n",
      "\n",
      "Accuracy Score:  0.9632737614550051\n"
     ]
    }
   ],
   "source": [
    "print (\"\")\n",
    "print (\"Classification Report: \")\n",
    "print (classification_report(y_test, preds))\n",
    "\n",
    "print (\"\")\n",
    "print (\"Accuracy Score: \", accuracy_score(y_test, preds))"
   ]
  },
  {
   "cell_type": "markdown",
   "id": "2c37fcbd",
   "metadata": {},
   "source": [
    "## Train with full data set"
   ]
  },
  {
   "cell_type": "code",
   "execution_count": 185,
   "id": "b4dae0d0",
   "metadata": {},
   "outputs": [
    {
     "name": "stdout",
     "output_type": "stream",
     "text": [
      "Training takes: 1 seconds\n"
     ]
    }
   ],
   "source": [
    "# train on balanced dataset\n",
    "train_start_time = time.time()\n",
    "eval_set=[(X_test,y_test)]\n",
    "modelLR.fit(X_train, np.ravel(y_train))\n",
    "train_end_time = time.time()\n",
    "\n",
    "print(\"Training takes:\", int(train_end_time-train_start_time), \"seconds\")"
   ]
  },
  {
   "cell_type": "code",
   "execution_count": 186,
   "id": "1628f08e",
   "metadata": {},
   "outputs": [
    {
     "data": {
      "image/png": "[encoded data removed]",
      "text/plain": [
       "<Figure size 432x288 with 2 Axes>"
      ]
     },
     "metadata": {
      "needs_background": "light"
     },
     "output_type": "display_data"
    }
   ],
   "source": [
    "#result on training data\n",
    "preds = modelLR.predict(X_train)\n",
    "cm = confusion_matrix(y_train, preds, labels=modelLR.classes_,normalize='true')\n",
    "disp = ConfusionMatrixDisplay(confusion_matrix=cm, display_labels=[\"not_fraud\", \"fraud\"])\n",
    "disp.plot()\n",
    "plt.show()"
   ]
  },
  {
   "cell_type": "code",
   "execution_count": 190,
   "id": "68188874",
   "metadata": {},
   "outputs": [
    {
     "data": {
      "image/png": "[encoded data removed]",
      "text/plain": [
       "<Figure size 432x288 with 2 Axes>"
      ]
     },
     "metadata": {
      "needs_background": "light"
     },
     "output_type": "display_data"
    }
   ],
   "source": [
    "#result on test data (undersample)\n",
    "preds = modelLR.predict(X_test_under)\n",
    "cm = confusion_matrix(y_test_under, preds, labels=modelLR.classes_,normalize='true')\n",
    "disp = ConfusionMatrixDisplay(confusion_matrix=cm, display_labels=[\"not_fraud\", \"fraud\"])\n",
    "disp.plot()\n",
    "plt.show()"
   ]
  },
  {
   "cell_type": "code",
   "execution_count": 191,
   "id": "166d4539",
   "metadata": {},
   "outputs": [
    {
     "name": "stdout",
     "output_type": "stream",
     "text": [
      "\n",
      "Classification Report: \n",
      "              precision    recall  f1-score   support\n",
      "\n",
      "           0       0.72      1.00      0.84       149\n",
      "           1       1.00      0.61      0.75       147\n",
      "\n",
      "    accuracy                           0.80       296\n",
      "   macro avg       0.86      0.80      0.80       296\n",
      "weighted avg       0.86      0.80      0.80       296\n",
      "\n",
      "\n",
      "Accuracy Score:  0.8040540540540541\n"
     ]
    }
   ],
   "source": [
    "print (\"\")\n",
    "print (\"Classification Report: \")\n",
    "print (classification_report(y_test_under, preds))\n",
    "\n",
    "print (\"\")\n",
    "print (\"Accuracy Score: \", accuracy_score(y_test_under, preds))"
   ]
  },
  {
   "cell_type": "code",
   "execution_count": 192,
   "id": "f5b60645",
   "metadata": {},
   "outputs": [
    {
     "data": {
      "image/png": "[encoded data removed]",
      "text/plain": [
       "<Figure size 432x288 with 2 Axes>"
      ]
     },
     "metadata": {
      "needs_background": "light"
     },
     "output_type": "display_data"
    }
   ],
   "source": [
    "# we apply it to the test data seet not under sampled\n",
    "preds = modelLR.predict(X_test)\n",
    "cm = confusion_matrix(y_test, preds, labels=modelLR.classes_,normalize='true')\n",
    "disp = ConfusionMatrixDisplay(confusion_matrix=cm, display_labels=[\"not_fraud\", \"fraud\"])\n",
    "disp.plot()\n",
    "plt.show()"
   ]
  },
  {
   "cell_type": "code",
   "execution_count": 193,
   "id": "30ff9435",
   "metadata": {},
   "outputs": [
    {
     "name": "stdout",
     "output_type": "stream",
     "text": [
      "\n",
      "Classification Report: \n",
      "              precision    recall  f1-score   support\n",
      "\n",
      "           0       1.00      1.00      1.00     85296\n",
      "           1       0.88      0.62      0.73       147\n",
      "\n",
      "    accuracy                           1.00     85443\n",
      "   macro avg       0.94      0.81      0.86     85443\n",
      "weighted avg       1.00      1.00      1.00     85443\n",
      "\n",
      "\n",
      "Accuracy Score:  0.999204147794436\n"
     ]
    }
   ],
   "source": [
    "print (\"\")\n",
    "print (\"Classification Report: \")\n",
    "print (classification_report(y_test, preds))\n",
    "\n",
    "print (\"\")\n",
    "print (\"Accuracy Score: \", accuracy_score(y_test, preds))"
   ]
  },
  {
   "cell_type": "markdown",
   "id": "95e573a0",
   "metadata": {},
   "source": [
    "## XgBoost"
   ]
  },
  {
   "cell_type": "code",
   "execution_count": 21,
   "id": "a6fed671",
   "metadata": {},
   "outputs": [],
   "source": [
    "model = xgb.XGBClassifier(\n",
    "    n_estimators=2000,\n",
    "    max_depth = 10,\n",
    "    early_stopping_rounds=10,\n",
    "    learning_rate=0.1,\n",
    "    tree_method=\"exact\",\n",
    "    booster='gbtree',\n",
    "    importance_type='gain',\n",
    "    # scale up the weight of positive samples\n",
    "    use_label_encoder=False,\n",
    "    eval_metric=[\"error\",\"logloss\"]\n",
    ")"
   ]
  },
  {
   "cell_type": "markdown",
   "id": "596d51ee",
   "metadata": {},
   "source": [
    "## Result with Training on under sampled data set"
   ]
  },
  {
   "cell_type": "code",
   "execution_count": 22,
   "id": "580cca45",
   "metadata": {},
   "outputs": [
    {
     "name": "stdout",
     "output_type": "stream",
     "text": [
      "Training takes: 1 seconds\n"
     ]
    }
   ],
   "source": [
    "# train on balanced dataset\n",
    "train_start_time = time.time()\n",
    "eval_set=[(X_test_under,y_test_under)]\n",
    "model.fit(X_train_under, np.ravel(y_train_under),eval_set=eval_set,verbose=False)\n",
    "train_end_time = time.time()\n",
    "\n",
    "print(\"Training takes:\", int(train_end_time-train_start_time), \"seconds\")"
   ]
  },
  {
   "cell_type": "code",
   "execution_count": 23,
   "id": "37e2ae55",
   "metadata": {},
   "outputs": [
    {
     "data": {
      "image/png": "[encoded data removed]",
      "text/plain": [
       "<Figure size 432x288 with 2 Axes>"
      ]
     },
     "metadata": {
      "needs_background": "light"
     },
     "output_type": "display_data"
    }
   ],
   "source": [
    "#result on training data\n",
    "preds = model.predict(X_train_under)\n",
    "cm = confusion_matrix(y_train_under, preds, labels=model.classes_,normalize='true')\n",
    "disp = ConfusionMatrixDisplay(confusion_matrix=cm, display_labels=[\"not_fraud\", \"fraud\"])\n",
    "disp.plot()\n",
    "plt.show()"
   ]
  },
  {
   "cell_type": "code",
   "execution_count": 24,
   "id": "a0be93e9",
   "metadata": {},
   "outputs": [
    {
     "data": {
      "image/png": "[encoded data removed]",
      "text/plain": [
       "<Figure size 432x288 with 2 Axes>"
      ]
     },
     "metadata": {
      "needs_background": "light"
     },
     "output_type": "display_data"
    }
   ],
   "source": [
    "#result on test data (undersample)\n",
    "preds = model.predict(X_test_under)\n",
    "cm = confusion_matrix(y_test_under, preds, labels=model.classes_,normalize='true')\n",
    "disp = ConfusionMatrixDisplay(confusion_matrix=cm, display_labels=[\"not_fraud\", \"fraud\"])\n",
    "disp.plot()\n",
    "plt.show()"
   ]
  },
  {
   "cell_type": "code",
   "execution_count": 25,
   "id": "7fefb9ea",
   "metadata": {},
   "outputs": [
    {
     "name": "stdout",
     "output_type": "stream",
     "text": [
      "\n",
      "Classification Report: \n",
      "              precision    recall  f1-score   support\n",
      "\n",
      "           0       0.93      0.95      0.94       149\n",
      "           1       0.95      0.93      0.94       147\n",
      "\n",
      "    accuracy                           0.94       296\n",
      "   macro avg       0.94      0.94      0.94       296\n",
      "weighted avg       0.94      0.94      0.94       296\n",
      "\n",
      "\n",
      "Accuracy Score:  0.9391891891891891\n"
     ]
    }
   ],
   "source": [
    "print (\"\")\n",
    "print (\"Classification Report: \")\n",
    "print (classification_report(y_test_under, preds))\n",
    "\n",
    "print (\"\")\n",
    "print (\"Accuracy Score: \", accuracy_score(y_test_under, preds))"
   ]
  },
  {
   "cell_type": "code",
   "execution_count": 26,
   "id": "24529e32",
   "metadata": {},
   "outputs": [
    {
     "data": {
      "image/png": "[encoded data removed]",
      "text/plain": [
       "<Figure size 432x288 with 2 Axes>"
      ]
     },
     "metadata": {
      "needs_background": "light"
     },
     "output_type": "display_data"
    }
   ],
   "source": [
    "# we apply it to the test data seet not under sampled\n",
    "preds = model.predict(X_test)\n",
    "cm = confusion_matrix(y_test, preds, labels=model.classes_,normalize='true')\n",
    "disp = ConfusionMatrixDisplay(confusion_matrix=cm, display_labels=[\"not_fraud\", \"fraud\"])\n",
    "disp.plot()\n",
    "plt.show()"
   ]
  },
  {
   "cell_type": "code",
   "execution_count": 27,
   "id": "f27e2038",
   "metadata": {},
   "outputs": [
    {
     "name": "stdout",
     "output_type": "stream",
     "text": [
      "\n",
      "Classification Report: \n",
      "              precision    recall  f1-score   support\n",
      "\n",
      "           0       1.00      0.96      0.98     85296\n",
      "           1       0.04      0.96      0.08       147\n",
      "\n",
      "    accuracy                           0.96     85443\n",
      "   macro avg       0.52      0.96      0.53     85443\n",
      "weighted avg       1.00      0.96      0.98     85443\n",
      "\n",
      "\n",
      "Accuracy Score:  0.963601465304355\n"
     ]
    }
   ],
   "source": [
    "print (\"\")\n",
    "print (\"Classification Report: \")\n",
    "print (classification_report(y_test, preds))\n",
    "\n",
    "print (\"\")\n",
    "print (\"Accuracy Score: \", accuracy_score(y_test, preds))"
   ]
  },
  {
   "cell_type": "markdown",
   "id": "e437ef96",
   "metadata": {},
   "source": [
    "## Result with training on unbalaced dataset"
   ]
  },
  {
   "cell_type": "code",
   "execution_count": 28,
   "id": "6e2eccb5",
   "metadata": {},
   "outputs": [
    {
     "name": "stdout",
     "output_type": "stream",
     "text": [
      "Training takes: 29 seconds\n"
     ]
    }
   ],
   "source": [
    "# train on balanced dataset\n",
    "train_start_time = time.time()\n",
    "eval_set=[(X_test,y_test)]\n",
    "model.fit(X_train, np.ravel(y_train),eval_set=eval_set,verbose=False)\n",
    "train_end_time = time.time()\n",
    "\n",
    "print(\"Training takes:\", int(train_end_time-train_start_time), \"seconds\")"
   ]
  },
  {
   "cell_type": "code",
   "execution_count": 29,
   "id": "3f988ca4",
   "metadata": {},
   "outputs": [
    {
     "data": {
      "image/png": "[encoded data removed]",
      "text/plain": [
       "<Figure size 432x288 with 2 Axes>"
      ]
     },
     "metadata": {
      "needs_background": "light"
     },
     "output_type": "display_data"
    }
   ],
   "source": [
    "#result on training data\n",
    "preds = model.predict(X_train)\n",
    "cm = confusion_matrix(y_train, preds, labels=model.classes_,normalize='true')\n",
    "disp = ConfusionMatrixDisplay(confusion_matrix=cm, display_labels=[\"not_fraud\", \"fraud\"])\n",
    "disp.plot()\n",
    "plt.show()"
   ]
  },
  {
   "cell_type": "code",
   "execution_count": 30,
   "id": "e865b370",
   "metadata": {},
   "outputs": [
    {
     "data": {
      "image/png": "[encoded data removed]",
      "text/plain": [
       "<Figure size 432x288 with 2 Axes>"
      ]
     },
     "metadata": {
      "needs_background": "light"
     },
     "output_type": "display_data"
    }
   ],
   "source": [
    "#result on test data\n",
    "preds = model.predict(X_test)\n",
    "cm = confusion_matrix(y_test, preds, labels=model.classes_,normalize='true')\n",
    "disp = ConfusionMatrixDisplay(confusion_matrix=cm, display_labels=[\"not_fraud\", \"fraud\"])\n",
    "disp.plot()\n",
    "plt.show()"
   ]
  },
  {
   "cell_type": "code",
   "execution_count": 31,
   "id": "5935a0a1",
   "metadata": {},
   "outputs": [
    {
     "name": "stdout",
     "output_type": "stream",
     "text": [
      "\n",
      "Classification Report: \n",
      "              precision    recall  f1-score   support\n",
      "\n",
      "           0       1.00      1.00      1.00     85296\n",
      "           1       0.95      0.78      0.86       147\n",
      "\n",
      "    accuracy                           1.00     85443\n",
      "   macro avg       0.98      0.89      0.93     85443\n",
      "weighted avg       1.00      1.00      1.00     85443\n",
      "\n",
      "\n",
      "Accuracy Score:  0.9995552590615966\n"
     ]
    }
   ],
   "source": [
    "print (\"\")\n",
    "print (\"Classification Report: \")\n",
    "print (classification_report(y_test, preds))\n",
    "\n",
    "print (\"\")\n",
    "print (\"Accuracy Score: \", accuracy_score(y_test, preds))"
   ]
  },
  {
   "cell_type": "code",
   "execution_count": 32,
   "id": "3a813c17",
   "metadata": {},
   "outputs": [
    {
     "data": {
      "image/png": "[encoded data removed]",
      "text/plain": [
       "<Figure size 432x288 with 2 Axes>"
      ]
     },
     "metadata": {
      "needs_background": "light"
     },
     "output_type": "display_data"
    }
   ],
   "source": [
    "#result on test data undersample\n",
    "preds = model.predict(X_test_under)\n",
    "cm = confusion_matrix(y_test_under, preds, labels=model.classes_,normalize='true')\n",
    "disp = ConfusionMatrixDisplay(confusion_matrix=cm, display_labels=[\"not_fraud\", \"fraud\"])\n",
    "disp.plot()\n",
    "plt.show()"
   ]
  },
  {
   "cell_type": "code",
   "execution_count": 33,
   "id": "676019ae",
   "metadata": {},
   "outputs": [
    {
     "name": "stdout",
     "output_type": "stream",
     "text": [
      "\n",
      "Classification Report: \n",
      "              precision    recall  f1-score   support\n",
      "\n",
      "           0       0.89      1.00      0.94       149\n",
      "           1       1.00      0.87      0.93       147\n",
      "\n",
      "    accuracy                           0.94       296\n",
      "   macro avg       0.94      0.94      0.94       296\n",
      "weighted avg       0.94      0.94      0.94       296\n",
      "\n",
      "\n",
      "Accuracy Score:  0.9358108108108109\n"
     ]
    }
   ],
   "source": [
    "print (\"\")\n",
    "print (\"Classification Report: \")\n",
    "print (classification_report(y_test_under, preds))\n",
    "\n",
    "print (\"\")\n",
    "print (\"Accuracy Score: \", accuracy_score(y_test_under, preds))"
   ]
  },
  {
   "cell_type": "markdown",
   "id": "c4a3a1d9",
   "metadata": {},
   "source": [
    "### Conclusion\n",
    "Training on unbalanced data gives a high accuracy result 0.99 for the test data set but a poor classification of the minority class (0.78). But on the under sample data set the XGBoost works very well with an 0.94 accuracy on the test data and 0.93 for the fraud data. Furthermore we observ that training on a small data set does impact his capability of generalization, because on the unbalced test data the accuracy is 0.96 and fruad data accurancy of 0.96 which is even better."
   ]
  },
  {
   "cell_type": "markdown",
   "id": "df58b8fc",
   "metadata": {},
   "source": [
    "# Auto Encoder"
   ]
  },
  {
   "cell_type": "markdown",
   "id": "54b683e6",
   "metadata": {},
   "source": [
    "## Under complete Auto Encoder"
   ]
  },
  {
   "cell_type": "code",
   "execution_count": 194,
   "id": "359ff7da",
   "metadata": {},
   "outputs": [],
   "source": [
    "nb_epoch = 50\n",
    "batch_size = 128\n",
    "input_dim = X_train.shape[1] #num of columns, 30\n",
    "encoding_dim = 18\n",
    "hidden_dim1 = 10 \n",
    "hidden_dim2 = 6\n",
    "learning_rate = 1e-7"
   ]
  },
  {
   "cell_type": "code",
   "execution_count": 195,
   "id": "3c409ecb",
   "metadata": {},
   "outputs": [],
   "source": [
    "# This returns a tensor\n",
    "input_layer = Input(shape=(input_dim, ))\n",
    "\n",
    "encoder = Dense(encoding_dim, activation=\"tanh\", \n",
    "                activity_regularizer=regularizers.l1(learning_rate))(input_layer)\n",
    "encoder = Dense(hidden_dim1, activation=\"elu\")(encoder)\n",
    "encoder = Dense(hidden_dim2, activation=\"tanh\")(encoder)\n",
    "decoder = Dense(hidden_dim2, activation='elu')(encoder)\n",
    "decoder = Dense(hidden_dim1, activation='tanh')(decoder)\n",
    "decoder = Dense(input_dim, activation='elu')(decoder)\n",
    "\n",
    "\n",
    "# This creates a model that includes\n",
    "# the Input layer and four Dense layers\n",
    "autoencoder = Model(inputs=input_layer, outputs=decoder)"
   ]
  },
  {
   "cell_type": "code",
   "execution_count": 196,
   "id": "add4922b",
   "metadata": {},
   "outputs": [],
   "source": [
    "# Configure the learning process, by compiling the model\n",
    "autoencoder.compile(optimizer='adam',\n",
    "                    metrics=['accuracy'],\n",
    "                    loss='mean_squared_error')\n",
    "\n",
    "# Saving the model\n",
    "cp = ModelCheckpoint(filepath=\"autoencoder_fraud.h5\",\n",
    "                     save_best_only=True,\n",
    "                     verbose=0)\n",
    "\n",
    "# TensorBoard basic visualizations.\n",
    "# This callback writes a log for TensorBoard, \n",
    "# which allows you to visualize dynamic graphs of your training and test metrics\n",
    "tb = TensorBoard(log_dir='./logs',\n",
    "                 histogram_freq=0,\n",
    "                 write_graph=True,\n",
    "                 write_images=True)\n",
    "\n"
   ]
  },
  {
   "cell_type": "markdown",
   "id": "c19b879a",
   "metadata": {},
   "source": [
    "# Train on full data set unbalanced "
   ]
  },
  {
   "cell_type": "code",
   "execution_count": 156,
   "id": "ea98a340",
   "metadata": {},
   "outputs": [
    {
     "name": "stdout",
     "output_type": "stream",
     "text": [
      "Epoch 1/50\n",
      "1558/1558 [==============================] - 3s 2ms/step - loss: 0.7832 - accuracy: 0.5035 - val_loss: 0.6951 - val_accuracy: 0.5873\n",
      "Epoch 2/50\n",
      "1558/1558 [==============================] - 3s 2ms/step - loss: 0.6796 - accuracy: 0.5937 - val_loss: 0.6680 - val_accuracy: 0.5961\n",
      "Epoch 3/50\n",
      "1558/1558 [==============================] - 3s 2ms/step - loss: 0.6604 - accuracy: 0.5988 - val_loss: 0.6532 - val_accuracy: 0.5999\n",
      "Epoch 4/50\n",
      "1558/1558 [==============================] - 3s 2ms/step - loss: 0.6478 - accuracy: 0.6006 - val_loss: 0.6430 - val_accuracy: 0.6052\n",
      "Epoch 5/50\n",
      "1558/1558 [==============================] - 3s 2ms/step - loss: 0.6391 - accuracy: 0.6042 - val_loss: 0.6353 - val_accuracy: 0.6027\n",
      "Epoch 6/50\n",
      "1558/1558 [==============================] - 3s 2ms/step - loss: 0.6301 - accuracy: 0.6066 - val_loss: 0.6245 - val_accuracy: 0.6077\n",
      "Epoch 7/50\n",
      "1558/1558 [==============================] - 3s 2ms/step - loss: 0.6177 - accuracy: 0.6070 - val_loss: 0.6130 - val_accuracy: 0.6049\n",
      "Epoch 8/50\n",
      "1558/1558 [==============================] - 3s 2ms/step - loss: 0.6075 - accuracy: 0.6063 - val_loss: 0.6052 - val_accuracy: 0.6067\n",
      "Epoch 9/50\n",
      "1558/1558 [==============================] - 3s 2ms/step - loss: 0.6015 - accuracy: 0.6079 - val_loss: 0.6007 - val_accuracy: 0.6120\n",
      "Epoch 10/50\n",
      "1558/1558 [==============================] - 3s 2ms/step - loss: 0.5972 - accuracy: 0.6129 - val_loss: 0.5973 - val_accuracy: 0.6173\n",
      "Epoch 11/50\n",
      "1558/1558 [==============================] - 3s 2ms/step - loss: 0.5937 - accuracy: 0.6172 - val_loss: 0.5958 - val_accuracy: 0.6145\n",
      "Epoch 12/50\n",
      "1558/1558 [==============================] - 3s 2ms/step - loss: 0.5898 - accuracy: 0.6216 - val_loss: 0.5892 - val_accuracy: 0.6232\n",
      "Epoch 13/50\n",
      "1558/1558 [==============================] - 3s 2ms/step - loss: 0.5858 - accuracy: 0.6279 - val_loss: 0.5851 - val_accuracy: 0.6314\n",
      "Epoch 14/50\n",
      "1558/1558 [==============================] - 3s 2ms/step - loss: 0.5825 - accuracy: 0.6349 - val_loss: 0.5831 - val_accuracy: 0.6311\n",
      "Epoch 15/50\n",
      "1558/1558 [==============================] - 3s 2ms/step - loss: 0.5795 - accuracy: 0.6391 - val_loss: 0.5800 - val_accuracy: 0.6428\n",
      "Epoch 16/50\n",
      "1558/1558 [==============================] - 3s 2ms/step - loss: 0.5775 - accuracy: 0.6435 - val_loss: 0.5775 - val_accuracy: 0.6435\n",
      "Epoch 17/50\n",
      "1558/1558 [==============================] - 3s 2ms/step - loss: 0.5754 - accuracy: 0.6462 - val_loss: 0.5752 - val_accuracy: 0.6481\n",
      "Epoch 18/50\n",
      "1558/1558 [==============================] - 3s 2ms/step - loss: 0.5738 - accuracy: 0.6480 - val_loss: 0.5739 - val_accuracy: 0.6500\n",
      "Epoch 19/50\n",
      "1558/1558 [==============================] - 3s 2ms/step - loss: 0.5727 - accuracy: 0.6506 - val_loss: 0.5736 - val_accuracy: 0.6520\n",
      "Epoch 20/50\n",
      "1558/1558 [==============================] - 3s 2ms/step - loss: 0.5708 - accuracy: 0.6530 - val_loss: 0.5716 - val_accuracy: 0.6553\n",
      "Epoch 21/50\n",
      "1558/1558 [==============================] - 3s 2ms/step - loss: 0.5701 - accuracy: 0.6545 - val_loss: 0.5719 - val_accuracy: 0.6544\n",
      "Epoch 22/50\n",
      "1558/1558 [==============================] - 3s 2ms/step - loss: 0.5688 - accuracy: 0.6556 - val_loss: 0.5693 - val_accuracy: 0.6590\n",
      "Epoch 23/50\n",
      "1558/1558 [==============================] - 3s 2ms/step - loss: 0.5680 - accuracy: 0.6570 - val_loss: 0.5688 - val_accuracy: 0.6572\n",
      "Epoch 24/50\n",
      "1558/1558 [==============================] - 3s 2ms/step - loss: 0.5680 - accuracy: 0.6585 - val_loss: 0.5685 - val_accuracy: 0.6566\n",
      "Epoch 25/50\n",
      "1558/1558 [==============================] - 3s 2ms/step - loss: 0.5666 - accuracy: 0.6597 - val_loss: 0.5672 - val_accuracy: 0.6564\n",
      "Epoch 26/50\n",
      "1558/1558 [==============================] - 3s 2ms/step - loss: 0.5659 - accuracy: 0.6600 - val_loss: 0.5668 - val_accuracy: 0.6632\n",
      "Epoch 27/50\n",
      "1558/1558 [==============================] - 3s 2ms/step - loss: 0.5653 - accuracy: 0.6618 - val_loss: 0.5658 - val_accuracy: 0.6627\n",
      "Epoch 28/50\n",
      "1558/1558 [==============================] - 3s 2ms/step - loss: 0.5650 - accuracy: 0.6623 - val_loss: 0.5651 - val_accuracy: 0.6612\n",
      "Epoch 29/50\n",
      "1558/1558 [==============================] - 3s 2ms/step - loss: 0.5643 - accuracy: 0.6633 - val_loss: 0.5649 - val_accuracy: 0.6642\n",
      "Epoch 30/50\n",
      "1558/1558 [==============================] - 3s 2ms/step - loss: 0.5640 - accuracy: 0.6636 - val_loss: 0.5649 - val_accuracy: 0.6647\n",
      "Epoch 31/50\n",
      "1558/1558 [==============================] - 3s 2ms/step - loss: 0.5635 - accuracy: 0.6639 - val_loss: 0.5646 - val_accuracy: 0.6622\n",
      "Epoch 32/50\n",
      "1558/1558 [==============================] - 3s 2ms/step - loss: 0.5629 - accuracy: 0.6647 - val_loss: 0.5641 - val_accuracy: 0.6620\n",
      "Epoch 33/50\n",
      "1558/1558 [==============================] - 3s 2ms/step - loss: 0.5627 - accuracy: 0.6644 - val_loss: 0.5629 - val_accuracy: 0.6589\n",
      "Epoch 34/50\n",
      "1558/1558 [==============================] - 3s 2ms/step - loss: 0.5622 - accuracy: 0.6649 - val_loss: 0.5626 - val_accuracy: 0.6661\n",
      "Epoch 35/50\n",
      "1558/1558 [==============================] - 3s 2ms/step - loss: 0.5614 - accuracy: 0.6654 - val_loss: 0.5615 - val_accuracy: 0.6694\n",
      "Epoch 36/50\n",
      "1558/1558 [==============================] - 3s 2ms/step - loss: 0.5616 - accuracy: 0.6653 - val_loss: 0.5621 - val_accuracy: 0.6617\n",
      "Epoch 37/50\n",
      "1558/1558 [==============================] - 3s 2ms/step - loss: 0.5606 - accuracy: 0.6657 - val_loss: 0.5621 - val_accuracy: 0.6597\n",
      "Epoch 38/50\n",
      "1558/1558 [==============================] - 3s 2ms/step - loss: 0.5606 - accuracy: 0.6651 - val_loss: 0.5614 - val_accuracy: 0.6688\n",
      "Epoch 39/50\n",
      "1558/1558 [==============================] - 3s 2ms/step - loss: 0.5601 - accuracy: 0.6655 - val_loss: 0.5604 - val_accuracy: 0.6627\n",
      "Epoch 40/50\n",
      "1558/1558 [==============================] - 3s 2ms/step - loss: 0.5598 - accuracy: 0.6657 - val_loss: 0.5607 - val_accuracy: 0.6680\n",
      "Epoch 41/50\n",
      "1558/1558 [==============================] - 3s 2ms/step - loss: 0.5593 - accuracy: 0.6665 - val_loss: 0.5602 - val_accuracy: 0.6662\n",
      "Epoch 42/50\n",
      "1558/1558 [==============================] - 3s 2ms/step - loss: 0.5590 - accuracy: 0.6670 - val_loss: 0.5591 - val_accuracy: 0.6661\n",
      "Epoch 43/50\n",
      "1558/1558 [==============================] - 3s 2ms/step - loss: 0.5587 - accuracy: 0.6666 - val_loss: 0.5603 - val_accuracy: 0.6671\n",
      "Epoch 44/50\n",
      "1558/1558 [==============================] - 3s 2ms/step - loss: 0.5583 - accuracy: 0.6678 - val_loss: 0.5589 - val_accuracy: 0.6683\n",
      "Epoch 45/50\n",
      "1558/1558 [==============================] - 3s 2ms/step - loss: 0.5580 - accuracy: 0.6677 - val_loss: 0.5594 - val_accuracy: 0.6710\n",
      "Epoch 46/50\n",
      "1558/1558 [==============================] - 3s 2ms/step - loss: 0.5576 - accuracy: 0.6686 - val_loss: 0.5587 - val_accuracy: 0.6708\n",
      "Epoch 47/50\n",
      "1558/1558 [==============================] - 3s 2ms/step - loss: 0.5573 - accuracy: 0.6684 - val_loss: 0.5571 - val_accuracy: 0.6708\n",
      "Epoch 48/50\n",
      "1558/1558 [==============================] - 3s 2ms/step - loss: 0.5571 - accuracy: 0.6684 - val_loss: 0.5575 - val_accuracy: 0.6730\n",
      "Epoch 49/50\n",
      "1558/1558 [==============================] - 3s 2ms/step - loss: 0.5566 - accuracy: 0.6691 - val_loss: 0.5571 - val_accuracy: 0.6671\n",
      "Epoch 50/50\n",
      "1558/1558 [==============================] - 3s 2ms/step - loss: 0.5565 - accuracy: 0.6689 - val_loss: 0.5565 - val_accuracy: 0.6692\n",
      "Training takes: 132 seconds\n"
     ]
    }
   ],
   "source": [
    "# we train on unbalanced data set\n",
    "train_start_time = time.time()\n",
    "modelAEUB = autoencoder.fit(x=X_train, y=X_train,\n",
    "                          epochs=nb_epoch,\n",
    "                          batch_size=batch_size,\n",
    "                          shuffle=True,\n",
    "                          validation_data=(X_test, X_test),\n",
    "                          verbose=1,\n",
    "                          callbacks=[cp, tb]).history\n",
    "train_end_time = time.time()\n",
    "\n",
    "print(\"Training takes:\", int(train_end_time-train_start_time), \"seconds\")"
   ]
  },
  {
   "cell_type": "code",
   "execution_count": 73,
   "id": "1dfd156e",
   "metadata": {},
   "outputs": [
    {
     "name": "stdout",
     "output_type": "stream",
     "text": [
      "^C\n"
     ]
    }
   ],
   "source": [
    "# Visualizing metrics on local system\n",
    "!tensorboard --logdir=\"logs\" --host localhost --port 8080"
   ]
  },
  {
   "cell_type": "code",
   "execution_count": 197,
   "id": "43909081",
   "metadata": {},
   "outputs": [
    {
     "data": {
      "image/png": "[encoded data removed]",
      "text/plain": [
       "<Figure size 1008x576 with 1 Axes>"
      ]
     },
     "metadata": {
      "needs_background": "light"
     },
     "output_type": "display_data"
    }
   ],
   "source": [
    "plt.figure(figsize=(14, 8))\n",
    "plt.plot(modelAEUB['loss'], linewidth=2, label='Train')\n",
    "plt.plot(modelAEUB['val_loss'], linewidth=2, label='Test')\n",
    "plt.legend(loc='upper right')\n",
    "plt.title('Model loss')\n",
    "plt.ylabel('Loss')\n",
    "plt.xlabel('Epoch')\n",
    "#plt.ylim(ymin=0.70,ymax=1)\n",
    "plt.show()"
   ]
  },
  {
   "cell_type": "code",
   "execution_count": 198,
   "id": "1168458c",
   "metadata": {},
   "outputs": [
    {
     "name": "stdout",
     "output_type": "stream",
     "text": [
      "6231/6231 [==============================] - 9s 1ms/step\n"
     ]
    },
    {
     "data": {
      "text/html": [
       "<div>\n",
       "<style scoped>\n",
       "    .dataframe tbody tr th:only-of-type {\n",
       "        vertical-align: middle;\n",
       "    }\n",
       "\n",
       "    .dataframe tbody tr th {\n",
       "        vertical-align: top;\n",
       "    }\n",
       "\n",
       "    .dataframe thead th {\n",
       "        text-align: right;\n",
       "    }\n",
       "</style>\n",
       "<table border=\"1\" class=\"dataframe\">\n",
       "  <thead>\n",
       "    <tr style=\"text-align: right;\">\n",
       "      <th></th>\n",
       "      <th>Reconstruction_error</th>\n",
       "      <th>True_class</th>\n",
       "    </tr>\n",
       "  </thead>\n",
       "  <tbody>\n",
       "    <tr>\n",
       "      <th>count</th>\n",
       "      <td>199364.000000</td>\n",
       "      <td>199364.000000</td>\n",
       "    </tr>\n",
       "    <tr>\n",
       "      <th>mean</th>\n",
       "      <td>1.180635</td>\n",
       "      <td>0.001731</td>\n",
       "    </tr>\n",
       "    <tr>\n",
       "      <th>std</th>\n",
       "      <td>4.110043</td>\n",
       "      <td>0.041563</td>\n",
       "    </tr>\n",
       "    <tr>\n",
       "      <th>min</th>\n",
       "      <td>0.125512</td>\n",
       "      <td>0.000000</td>\n",
       "    </tr>\n",
       "    <tr>\n",
       "      <th>25%</th>\n",
       "      <td>0.491052</td>\n",
       "      <td>0.000000</td>\n",
       "    </tr>\n",
       "    <tr>\n",
       "      <th>50%</th>\n",
       "      <td>0.714041</td>\n",
       "      <td>0.000000</td>\n",
       "    </tr>\n",
       "    <tr>\n",
       "      <th>75%</th>\n",
       "      <td>1.066147</td>\n",
       "      <td>0.000000</td>\n",
       "    </tr>\n",
       "    <tr>\n",
       "      <th>max</th>\n",
       "      <td>531.505444</td>\n",
       "      <td>1.000000</td>\n",
       "    </tr>\n",
       "  </tbody>\n",
       "</table>\n",
       "</div>"
      ],
      "text/plain": [
       "       Reconstruction_error     True_class\n",
       "count         199364.000000  199364.000000\n",
       "mean               1.180635       0.001731\n",
       "std                4.110043       0.041563\n",
       "min                0.125512       0.000000\n",
       "25%                0.491052       0.000000\n",
       "50%                0.714041       0.000000\n",
       "75%                1.066147       0.000000\n",
       "max              531.505444       1.000000"
      ]
     },
     "execution_count": 198,
     "metadata": {},
     "output_type": "execute_result"
    }
   ],
   "source": [
    "# evaluation on train data\n",
    "train_x_predictions = autoencoder.predict(X_train)\n",
    "mse = np.mean(np.power(X_train - train_x_predictions, 2), axis=1)\n",
    "error_df = pd.DataFrame({'Reconstruction_error': mse,\n",
    "                        'True_class': y_train[\"Class\"]})\n",
    "error_df.describe()"
   ]
  },
  {
   "cell_type": "code",
   "execution_count": 199,
   "id": "eb07afb3",
   "metadata": {},
   "outputs": [
    {
     "data": {
      "image/png": "[encoded data removed]",
      "text/plain": [
       "<Figure size 432x288 with 2 Axes>"
      ]
     },
     "metadata": {
      "needs_background": "light"
     },
     "output_type": "display_data"
    }
   ],
   "source": [
    "#result on train data\n",
    "pred_y = [1 if e > THRESHOLD_FIXED else 0 for e in error_df.Reconstruction_error.values]\n",
    "cm = confusion_matrix(y_train, pred_y, normalize='true')\n",
    "disp = ConfusionMatrixDisplay(confusion_matrix=cm, display_labels=[\"not_fraud\", \"fraud\"])\n",
    "disp.plot()\n",
    "plt.show()"
   ]
  },
  {
   "cell_type": "code",
   "execution_count": 200,
   "id": "1ab49cda",
   "metadata": {},
   "outputs": [
    {
     "name": "stdout",
     "output_type": "stream",
     "text": [
      "2671/2671 [==============================] - 4s 1ms/step\n"
     ]
    },
    {
     "data": {
      "text/html": [
       "<div>\n",
       "<style scoped>\n",
       "    .dataframe tbody tr th:only-of-type {\n",
       "        vertical-align: middle;\n",
       "    }\n",
       "\n",
       "    .dataframe tbody tr th {\n",
       "        vertical-align: top;\n",
       "    }\n",
       "\n",
       "    .dataframe thead th {\n",
       "        text-align: right;\n",
       "    }\n",
       "</style>\n",
       "<table border=\"1\" class=\"dataframe\">\n",
       "  <thead>\n",
       "    <tr style=\"text-align: right;\">\n",
       "      <th></th>\n",
       "      <th>Reconstruction_error</th>\n",
       "      <th>True_class</th>\n",
       "    </tr>\n",
       "  </thead>\n",
       "  <tbody>\n",
       "    <tr>\n",
       "      <th>count</th>\n",
       "      <td>85443.000000</td>\n",
       "      <td>85443.000000</td>\n",
       "    </tr>\n",
       "    <tr>\n",
       "      <th>mean</th>\n",
       "      <td>1.178214</td>\n",
       "      <td>0.001720</td>\n",
       "    </tr>\n",
       "    <tr>\n",
       "      <th>std</th>\n",
       "      <td>7.433737</td>\n",
       "      <td>0.041443</td>\n",
       "    </tr>\n",
       "    <tr>\n",
       "      <th>min</th>\n",
       "      <td>0.160197</td>\n",
       "      <td>0.000000</td>\n",
       "    </tr>\n",
       "    <tr>\n",
       "      <th>25%</th>\n",
       "      <td>0.489184</td>\n",
       "      <td>0.000000</td>\n",
       "    </tr>\n",
       "    <tr>\n",
       "      <th>50%</th>\n",
       "      <td>0.711946</td>\n",
       "      <td>0.000000</td>\n",
       "    </tr>\n",
       "    <tr>\n",
       "      <th>75%</th>\n",
       "      <td>1.058008</td>\n",
       "      <td>0.000000</td>\n",
       "    </tr>\n",
       "    <tr>\n",
       "      <th>max</th>\n",
       "      <td>1827.554597</td>\n",
       "      <td>1.000000</td>\n",
       "    </tr>\n",
       "  </tbody>\n",
       "</table>\n",
       "</div>"
      ],
      "text/plain": [
       "       Reconstruction_error    True_class\n",
       "count          85443.000000  85443.000000\n",
       "mean               1.178214      0.001720\n",
       "std                7.433737      0.041443\n",
       "min                0.160197      0.000000\n",
       "25%                0.489184      0.000000\n",
       "50%                0.711946      0.000000\n",
       "75%                1.058008      0.000000\n",
       "max             1827.554597      1.000000"
      ]
     },
     "execution_count": 200,
     "metadata": {},
     "output_type": "execute_result"
    }
   ],
   "source": [
    "#evaluation on test data\n",
    "test_x_predictions = autoencoder.predict(X_test)\n",
    "mse = np.mean(np.power(X_test - test_x_predictions, 2), axis=1)\n",
    "error_df = pd.DataFrame({'Reconstruction_error': mse,\n",
    "                        'True_class': y_test[\"Class\"]})\n",
    "error_df.describe()"
   ]
  },
  {
   "cell_type": "code",
   "execution_count": 201,
   "id": "cebfe2a8",
   "metadata": {},
   "outputs": [
    {
     "data": {
      "image/png": "[encoded data removed]",
      "text/plain": [
       "<Figure size 432x288 with 2 Axes>"
      ]
     },
     "metadata": {
      "needs_background": "light"
     },
     "output_type": "display_data"
    }
   ],
   "source": [
    "#result on test data\n",
    "pred_y = [1 if e > THRESHOLD_FIXED else 0 for e in error_df.Reconstruction_error.values]\n",
    "cm = confusion_matrix(y_test, pred_y, normalize='true')\n",
    "disp = ConfusionMatrixDisplay(confusion_matrix=cm, display_labels=[\"not_fraud\", \"fraud\"])\n",
    "disp.plot()\n",
    "plt.show()"
   ]
  },
  {
   "cell_type": "code",
   "execution_count": 202,
   "id": "d26a573d",
   "metadata": {},
   "outputs": [
    {
     "data": {
      "image/png": "[encoded data removed]",
      "text/plain": [
       "<Figure size 432x288 with 2 Axes>"
      ]
     },
     "metadata": {
      "needs_background": "light"
     },
     "output_type": "display_data"
    }
   ],
   "source": [
    "#result on test data\n",
    "pred_y = [1 if e > THRESHOLD_FIXED else 0 for e in error_df.Reconstruction_error.values]\n",
    "cm = confusion_matrix(y_test, pred_y)\n",
    "disp = ConfusionMatrixDisplay(confusion_matrix=cm, display_labels=[\"not_fraud\", \"fraud\"])\n",
    "disp.plot()\n",
    "plt.show()"
   ]
  },
  {
   "cell_type": "code",
   "execution_count": 206,
   "id": "426cb42a",
   "metadata": {},
   "outputs": [
    {
     "name": "stdout",
     "output_type": "stream",
     "text": [
      "accuracy = 0.9652516882600096\n"
     ]
    }
   ],
   "source": [
    "print(\"accuracy = \"+str((82350+124)/(len(y_test))))"
   ]
  },
  {
   "cell_type": "code",
   "execution_count": 162,
   "id": "3c508d9e",
   "metadata": {},
   "outputs": [
    {
     "name": "stdout",
     "output_type": "stream",
     "text": [
      "10/10 [==============================] - 0s 999us/step\n"
     ]
    },
    {
     "data": {
      "text/html": [
       "<div>\n",
       "<style scoped>\n",
       "    .dataframe tbody tr th:only-of-type {\n",
       "        vertical-align: middle;\n",
       "    }\n",
       "\n",
       "    .dataframe tbody tr th {\n",
       "        vertical-align: top;\n",
       "    }\n",
       "\n",
       "    .dataframe thead th {\n",
       "        text-align: right;\n",
       "    }\n",
       "</style>\n",
       "<table border=\"1\" class=\"dataframe\">\n",
       "  <thead>\n",
       "    <tr style=\"text-align: right;\">\n",
       "      <th></th>\n",
       "      <th>Reconstruction_error</th>\n",
       "      <th>True_class</th>\n",
       "    </tr>\n",
       "  </thead>\n",
       "  <tbody>\n",
       "    <tr>\n",
       "      <th>count</th>\n",
       "      <td>296.000000</td>\n",
       "      <td>296.000000</td>\n",
       "    </tr>\n",
       "    <tr>\n",
       "      <th>mean</th>\n",
       "      <td>12.003166</td>\n",
       "      <td>0.496622</td>\n",
       "    </tr>\n",
       "    <tr>\n",
       "      <th>std</th>\n",
       "      <td>29.975106</td>\n",
       "      <td>0.500835</td>\n",
       "    </tr>\n",
       "    <tr>\n",
       "      <th>min</th>\n",
       "      <td>0.049902</td>\n",
       "      <td>0.000000</td>\n",
       "    </tr>\n",
       "    <tr>\n",
       "      <th>25%</th>\n",
       "      <td>0.246129</td>\n",
       "      <td>0.000000</td>\n",
       "    </tr>\n",
       "    <tr>\n",
       "      <th>50%</th>\n",
       "      <td>0.601980</td>\n",
       "      <td>0.000000</td>\n",
       "    </tr>\n",
       "    <tr>\n",
       "      <th>75%</th>\n",
       "      <td>7.205777</td>\n",
       "      <td>1.000000</td>\n",
       "    </tr>\n",
       "    <tr>\n",
       "      <th>max</th>\n",
       "      <td>249.847250</td>\n",
       "      <td>1.000000</td>\n",
       "    </tr>\n",
       "  </tbody>\n",
       "</table>\n",
       "</div>"
      ],
      "text/plain": [
       "       Reconstruction_error  True_class\n",
       "count            296.000000  296.000000\n",
       "mean              12.003166    0.496622\n",
       "std               29.975106    0.500835\n",
       "min                0.049902    0.000000\n",
       "25%                0.246129    0.000000\n",
       "50%                0.601980    0.000000\n",
       "75%                7.205777    1.000000\n",
       "max              249.847250    1.000000"
      ]
     },
     "execution_count": 162,
     "metadata": {},
     "output_type": "execute_result"
    }
   ],
   "source": [
    "#evaluation on test data\n",
    "test_x_predictions = autoencoder.predict(X_test_under)\n",
    "mse = np.mean(np.power(X_test_under - test_x_predictions, 2), axis=1)\n",
    "error_df = pd.DataFrame({'Reconstruction_error': mse,\n",
    "                        'True_class': y_test_under[\"Class\"]})\n",
    "error_df.describe()"
   ]
  },
  {
   "cell_type": "code",
   "execution_count": 163,
   "id": "3dc23b5d",
   "metadata": {},
   "outputs": [
    {
     "data": {
      "image/png": "[encoded data removed]",
      "text/plain": [
       "<Figure size 432x288 with 2 Axes>"
      ]
     },
     "metadata": {
      "needs_background": "light"
     },
     "output_type": "display_data"
    }
   ],
   "source": [
    "#result on test data\n",
    "pred_y = [1 if e > THRESHOLD_FIXED else 0 for e in error_df.Reconstruction_error.values]\n",
    "cm = confusion_matrix(y_test_under, pred_y, normalize='true')\n",
    "disp = ConfusionMatrixDisplay(confusion_matrix=cm, display_labels=[\"not_fraud\", \"fraud\"])\n",
    "disp.plot()\n",
    "plt.show()"
   ]
  },
  {
   "cell_type": "markdown",
   "id": "bb36c0ec",
   "metadata": {},
   "source": [
    "# Train on balanced data set"
   ]
  },
  {
   "cell_type": "code",
   "execution_count": 207,
   "id": "ae06ab17",
   "metadata": {},
   "outputs": [
    {
     "name": "stdout",
     "output_type": "stream",
     "text": [
      "Epoch 1/150\n",
      "6/6 [==============================] - 1s 57ms/step - loss: 13.5539 - accuracy: 0.0378 - val_loss: 14.7283 - val_accuracy: 0.0811\n",
      "Epoch 2/150\n",
      "6/6 [==============================] - 0s 25ms/step - loss: 13.4235 - accuracy: 0.1032 - val_loss: 14.6152 - val_accuracy: 0.1081\n",
      "Epoch 3/150\n",
      "6/6 [==============================] - 0s 19ms/step - loss: 13.3111 - accuracy: 0.1337 - val_loss: 14.5090 - val_accuracy: 0.1318\n",
      "Epoch 4/150\n",
      "6/6 [==============================] - 0s 23ms/step - loss: 13.1990 - accuracy: 0.1599 - val_loss: 14.4043 - val_accuracy: 0.1655\n",
      "Epoch 5/150\n",
      "6/6 [==============================] - 0s 21ms/step - loss: 13.0901 - accuracy: 0.1730 - val_loss: 14.2979 - val_accuracy: 0.1926\n",
      "Epoch 6/150\n",
      "6/6 [==============================] - 0s 30ms/step - loss: 12.9721 - accuracy: 0.1875 - val_loss: 14.1911 - val_accuracy: 0.1892\n",
      "Epoch 7/150\n",
      "6/6 [==============================] - 0s 18ms/step - loss: 12.8586 - accuracy: 0.1904 - val_loss: 14.0802 - val_accuracy: 0.1959\n",
      "Epoch 8/150\n",
      "6/6 [==============================] - 0s 18ms/step - loss: 12.7419 - accuracy: 0.1919 - val_loss: 13.9695 - val_accuracy: 0.1993\n",
      "Epoch 9/150\n",
      "6/6 [==============================] - 0s 19ms/step - loss: 12.6311 - accuracy: 0.1948 - val_loss: 13.8591 - val_accuracy: 0.2095\n",
      "Epoch 10/150\n",
      "6/6 [==============================] - 0s 21ms/step - loss: 12.5179 - accuracy: 0.1962 - val_loss: 13.7542 - val_accuracy: 0.2095\n",
      "Epoch 11/150\n",
      "6/6 [==============================] - 0s 18ms/step - loss: 12.4125 - accuracy: 0.1977 - val_loss: 13.6543 - val_accuracy: 0.2162\n",
      "Epoch 12/150\n",
      "6/6 [==============================] - 0s 22ms/step - loss: 12.3143 - accuracy: 0.1991 - val_loss: 13.5595 - val_accuracy: 0.2264\n",
      "Epoch 13/150\n",
      "6/6 [==============================] - 0s 21ms/step - loss: 12.2218 - accuracy: 0.2064 - val_loss: 13.4706 - val_accuracy: 0.2297\n",
      "Epoch 14/150\n",
      "6/6 [==============================] - 0s 23ms/step - loss: 12.1320 - accuracy: 0.2108 - val_loss: 13.3891 - val_accuracy: 0.2399\n",
      "Epoch 15/150\n",
      "6/6 [==============================] - 0s 33ms/step - loss: 12.0532 - accuracy: 0.2137 - val_loss: 13.3121 - val_accuracy: 0.2432\n",
      "Epoch 16/150\n",
      "6/6 [==============================] - 0s 23ms/step - loss: 11.9767 - accuracy: 0.2166 - val_loss: 13.2416 - val_accuracy: 0.2500\n",
      "Epoch 17/150\n",
      "6/6 [==============================] - 0s 19ms/step - loss: 11.9073 - accuracy: 0.2151 - val_loss: 13.1752 - val_accuracy: 0.2534\n",
      "Epoch 18/150\n",
      "6/6 [==============================] - 0s 18ms/step - loss: 11.8415 - accuracy: 0.2180 - val_loss: 13.1125 - val_accuracy: 0.2568\n",
      "Epoch 19/150\n",
      "6/6 [==============================] - 0s 17ms/step - loss: 11.7791 - accuracy: 0.2180 - val_loss: 13.0537 - val_accuracy: 0.2669\n",
      "Epoch 20/150\n",
      "6/6 [==============================] - 0s 20ms/step - loss: 11.7201 - accuracy: 0.2209 - val_loss: 12.9990 - val_accuracy: 0.2770\n",
      "Epoch 21/150\n",
      "6/6 [==============================] - 0s 17ms/step - loss: 11.6660 - accuracy: 0.2209 - val_loss: 12.9475 - val_accuracy: 0.2736\n",
      "Epoch 22/150\n",
      "6/6 [==============================] - 0s 21ms/step - loss: 11.6149 - accuracy: 0.2267 - val_loss: 12.9001 - val_accuracy: 0.2703\n",
      "Epoch 23/150\n",
      "6/6 [==============================] - 0s 22ms/step - loss: 11.5682 - accuracy: 0.2297 - val_loss: 12.8565 - val_accuracy: 0.2804\n",
      "Epoch 24/150\n",
      "6/6 [==============================] - 0s 20ms/step - loss: 11.5255 - accuracy: 0.2311 - val_loss: 12.8157 - val_accuracy: 0.2770\n",
      "Epoch 25/150\n",
      "6/6 [==============================] - 0s 23ms/step - loss: 11.4853 - accuracy: 0.2355 - val_loss: 12.7775 - val_accuracy: 0.2804\n",
      "Epoch 26/150\n",
      "6/6 [==============================] - 0s 18ms/step - loss: 11.4494 - accuracy: 0.2340 - val_loss: 12.7414 - val_accuracy: 0.2838\n",
      "Epoch 27/150\n",
      "6/6 [==============================] - 0s 16ms/step - loss: 11.4130 - accuracy: 0.2384 - val_loss: 12.7087 - val_accuracy: 0.2838\n",
      "Epoch 28/150\n",
      "6/6 [==============================] - 0s 22ms/step - loss: 11.3818 - accuracy: 0.2369 - val_loss: 12.6781 - val_accuracy: 0.2872\n",
      "Epoch 29/150\n",
      "6/6 [==============================] - 0s 18ms/step - loss: 11.3514 - accuracy: 0.2384 - val_loss: 12.6490 - val_accuracy: 0.2872\n",
      "Epoch 30/150\n",
      "6/6 [==============================] - 0s 24ms/step - loss: 11.3235 - accuracy: 0.2398 - val_loss: 12.6225 - val_accuracy: 0.2973\n",
      "Epoch 31/150\n",
      "6/6 [==============================] - 0s 20ms/step - loss: 11.2970 - accuracy: 0.2384 - val_loss: 12.5981 - val_accuracy: 0.2973\n",
      "Epoch 32/150\n",
      "6/6 [==============================] - 0s 20ms/step - loss: 11.2722 - accuracy: 0.2340 - val_loss: 12.5749 - val_accuracy: 0.3041\n",
      "Epoch 33/150\n",
      "6/6 [==============================] - 0s 24ms/step - loss: 11.2485 - accuracy: 0.2369 - val_loss: 12.5535 - val_accuracy: 0.3007\n",
      "Epoch 34/150\n",
      "6/6 [==============================] - 0s 22ms/step - loss: 11.2262 - accuracy: 0.2398 - val_loss: 12.5324 - val_accuracy: 0.2939\n",
      "Epoch 35/150\n",
      "6/6 [==============================] - 0s 19ms/step - loss: 11.2049 - accuracy: 0.2413 - val_loss: 12.5122 - val_accuracy: 0.2905\n",
      "Epoch 36/150\n",
      "6/6 [==============================] - 0s 18ms/step - loss: 11.1855 - accuracy: 0.2427 - val_loss: 12.4935 - val_accuracy: 0.2838\n",
      "Epoch 37/150\n",
      "6/6 [==============================] - 0s 24ms/step - loss: 11.1660 - accuracy: 0.2427 - val_loss: 12.4765 - val_accuracy: 0.2872\n",
      "Epoch 38/150\n",
      "6/6 [==============================] - 0s 27ms/step - loss: 11.1490 - accuracy: 0.2427 - val_loss: 12.4602 - val_accuracy: 0.2973\n",
      "Epoch 39/150\n",
      "6/6 [==============================] - 0s 21ms/step - loss: 11.1323 - accuracy: 0.2427 - val_loss: 12.4442 - val_accuracy: 0.3007\n",
      "Epoch 40/150\n",
      "6/6 [==============================] - 0s 23ms/step - loss: 11.1156 - accuracy: 0.2384 - val_loss: 12.4294 - val_accuracy: 0.2973\n",
      "Epoch 41/150\n",
      "6/6 [==============================] - 0s 24ms/step - loss: 11.1004 - accuracy: 0.2384 - val_loss: 12.4155 - val_accuracy: 0.2939\n",
      "Epoch 42/150\n",
      "6/6 [==============================] - 0s 21ms/step - loss: 11.0855 - accuracy: 0.2398 - val_loss: 12.4018 - val_accuracy: 0.2939\n",
      "Epoch 43/150\n",
      "6/6 [==============================] - 0s 21ms/step - loss: 11.0713 - accuracy: 0.2398 - val_loss: 12.3885 - val_accuracy: 0.2973\n",
      "Epoch 44/150\n",
      "6/6 [==============================] - 0s 16ms/step - loss: 11.0579 - accuracy: 0.2369 - val_loss: 12.3764 - val_accuracy: 0.2939\n",
      "Epoch 45/150\n",
      "6/6 [==============================] - 0s 21ms/step - loss: 11.0452 - accuracy: 0.2369 - val_loss: 12.3644 - val_accuracy: 0.2939\n",
      "Epoch 46/150\n",
      "6/6 [==============================] - 0s 22ms/step - loss: 11.0330 - accuracy: 0.2413 - val_loss: 12.3528 - val_accuracy: 0.2973\n",
      "Epoch 47/150\n",
      "6/6 [==============================] - 0s 19ms/step - loss: 11.0208 - accuracy: 0.2398 - val_loss: 12.3421 - val_accuracy: 0.2905\n",
      "Epoch 48/150\n",
      "6/6 [==============================] - 0s 21ms/step - loss: 11.0099 - accuracy: 0.2398 - val_loss: 12.3319 - val_accuracy: 0.2872\n",
      "Epoch 49/150\n",
      "6/6 [==============================] - 0s 18ms/step - loss: 10.9988 - accuracy: 0.2427 - val_loss: 12.3221 - val_accuracy: 0.2905\n",
      "Epoch 50/150\n",
      "6/6 [==============================] - 0s 18ms/step - loss: 10.9882 - accuracy: 0.2413 - val_loss: 12.3115 - val_accuracy: 0.3007\n",
      "Epoch 51/150\n",
      "6/6 [==============================] - 0s 20ms/step - loss: 10.9782 - accuracy: 0.2471 - val_loss: 12.3027 - val_accuracy: 0.2939\n",
      "Epoch 52/150\n",
      "6/6 [==============================] - 0s 23ms/step - loss: 10.9684 - accuracy: 0.2456 - val_loss: 12.2936 - val_accuracy: 0.2973\n",
      "Epoch 53/150\n",
      "6/6 [==============================] - 0s 21ms/step - loss: 10.9583 - accuracy: 0.2442 - val_loss: 12.2857 - val_accuracy: 0.3041\n",
      "Epoch 54/150\n",
      "6/6 [==============================] - 0s 18ms/step - loss: 10.9488 - accuracy: 0.2485 - val_loss: 12.2771 - val_accuracy: 0.2939\n",
      "Epoch 55/150\n",
      "6/6 [==============================] - 0s 20ms/step - loss: 10.9395 - accuracy: 0.2471 - val_loss: 12.2683 - val_accuracy: 0.2973\n",
      "Epoch 56/150\n",
      "6/6 [==============================] - 0s 19ms/step - loss: 10.9302 - accuracy: 0.2442 - val_loss: 12.2606 - val_accuracy: 0.2973\n",
      "Epoch 57/150\n",
      "6/6 [==============================] - 0s 19ms/step - loss: 10.9214 - accuracy: 0.2456 - val_loss: 12.2530 - val_accuracy: 0.2973\n",
      "Epoch 58/150\n"
     ]
    },
    {
     "name": "stdout",
     "output_type": "stream",
     "text": [
      "6/6 [==============================] - 0s 24ms/step - loss: 10.9126 - accuracy: 0.2427 - val_loss: 12.2459 - val_accuracy: 0.3007\n",
      "Epoch 59/150\n",
      "6/6 [==============================] - 0s 24ms/step - loss: 10.9033 - accuracy: 0.2442 - val_loss: 12.2382 - val_accuracy: 0.2939\n",
      "Epoch 60/150\n",
      "6/6 [==============================] - 0s 19ms/step - loss: 10.8951 - accuracy: 0.2456 - val_loss: 12.2290 - val_accuracy: 0.2973\n",
      "Epoch 61/150\n",
      "6/6 [==============================] - 0s 21ms/step - loss: 10.8864 - accuracy: 0.2442 - val_loss: 12.2208 - val_accuracy: 0.2973\n",
      "Epoch 62/150\n",
      "6/6 [==============================] - 0s 24ms/step - loss: 10.8781 - accuracy: 0.2485 - val_loss: 12.2124 - val_accuracy: 0.2973\n",
      "Epoch 63/150\n",
      "6/6 [==============================] - 0s 18ms/step - loss: 10.8693 - accuracy: 0.2500 - val_loss: 12.2039 - val_accuracy: 0.2973\n",
      "Epoch 64/150\n",
      "6/6 [==============================] - 0s 20ms/step - loss: 10.8608 - accuracy: 0.2471 - val_loss: 12.1963 - val_accuracy: 0.2973\n",
      "Epoch 65/150\n",
      "6/6 [==============================] - 0s 21ms/step - loss: 10.8524 - accuracy: 0.2500 - val_loss: 12.1880 - val_accuracy: 0.2973\n",
      "Epoch 66/150\n",
      "6/6 [==============================] - 0s 19ms/step - loss: 10.8435 - accuracy: 0.2500 - val_loss: 12.1780 - val_accuracy: 0.2973\n",
      "Epoch 67/150\n",
      "6/6 [==============================] - 0s 18ms/step - loss: 10.8348 - accuracy: 0.2500 - val_loss: 12.1692 - val_accuracy: 0.2973\n",
      "Epoch 68/150\n",
      "6/6 [==============================] - 0s 18ms/step - loss: 10.8260 - accuracy: 0.2544 - val_loss: 12.1616 - val_accuracy: 0.3007\n",
      "Epoch 69/150\n",
      "6/6 [==============================] - 0s 24ms/step - loss: 10.8176 - accuracy: 0.2587 - val_loss: 12.1536 - val_accuracy: 0.3041\n",
      "Epoch 70/150\n",
      "6/6 [==============================] - 0s 26ms/step - loss: 10.8093 - accuracy: 0.2544 - val_loss: 12.1449 - val_accuracy: 0.3074\n",
      "Epoch 71/150\n",
      "6/6 [==============================] - 0s 26ms/step - loss: 10.8016 - accuracy: 0.2544 - val_loss: 12.1384 - val_accuracy: 0.3041\n",
      "Epoch 72/150\n",
      "6/6 [==============================] - 0s 23ms/step - loss: 10.7937 - accuracy: 0.2573 - val_loss: 12.1317 - val_accuracy: 0.3108\n",
      "Epoch 73/150\n",
      "6/6 [==============================] - 0s 19ms/step - loss: 10.7861 - accuracy: 0.2573 - val_loss: 12.1261 - val_accuracy: 0.3074\n",
      "Epoch 74/150\n",
      "6/6 [==============================] - 0s 19ms/step - loss: 10.7787 - accuracy: 0.2573 - val_loss: 12.1205 - val_accuracy: 0.2973\n",
      "Epoch 75/150\n",
      "6/6 [==============================] - 0s 21ms/step - loss: 10.7710 - accuracy: 0.2631 - val_loss: 12.1140 - val_accuracy: 0.3108\n",
      "Epoch 76/150\n",
      "6/6 [==============================] - 0s 25ms/step - loss: 10.7641 - accuracy: 0.2616 - val_loss: 12.1085 - val_accuracy: 0.3176\n",
      "Epoch 77/150\n",
      "6/6 [==============================] - 0s 25ms/step - loss: 10.7571 - accuracy: 0.2587 - val_loss: 12.1018 - val_accuracy: 0.3142\n",
      "Epoch 78/150\n",
      "6/6 [==============================] - 0s 22ms/step - loss: 10.7501 - accuracy: 0.2689 - val_loss: 12.0959 - val_accuracy: 0.3176\n",
      "Epoch 79/150\n",
      "6/6 [==============================] - 0s 16ms/step - loss: 10.7434 - accuracy: 0.2703 - val_loss: 12.0900 - val_accuracy: 0.3176\n",
      "Epoch 80/150\n",
      "6/6 [==============================] - 0s 18ms/step - loss: 10.7366 - accuracy: 0.2645 - val_loss: 12.0844 - val_accuracy: 0.3243\n",
      "Epoch 81/150\n",
      "6/6 [==============================] - 0s 17ms/step - loss: 10.7300 - accuracy: 0.2733 - val_loss: 12.0780 - val_accuracy: 0.3311\n",
      "Epoch 82/150\n",
      "6/6 [==============================] - 0s 17ms/step - loss: 10.7230 - accuracy: 0.2718 - val_loss: 12.0715 - val_accuracy: 0.3209\n",
      "Epoch 83/150\n",
      "6/6 [==============================] - 0s 24ms/step - loss: 10.7172 - accuracy: 0.2718 - val_loss: 12.0664 - val_accuracy: 0.3277\n",
      "Epoch 84/150\n",
      "6/6 [==============================] - 0s 25ms/step - loss: 10.7105 - accuracy: 0.2733 - val_loss: 12.0622 - val_accuracy: 0.3243\n",
      "Epoch 85/150\n",
      "6/6 [==============================] - 0s 18ms/step - loss: 10.7047 - accuracy: 0.2747 - val_loss: 12.0565 - val_accuracy: 0.3243\n",
      "Epoch 86/150\n",
      "6/6 [==============================] - 0s 22ms/step - loss: 10.6985 - accuracy: 0.2733 - val_loss: 12.0511 - val_accuracy: 0.3277\n",
      "Epoch 87/150\n",
      "6/6 [==============================] - 0s 20ms/step - loss: 10.6918 - accuracy: 0.2762 - val_loss: 12.0466 - val_accuracy: 0.3311\n",
      "Epoch 88/150\n",
      "6/6 [==============================] - 0s 20ms/step - loss: 10.6863 - accuracy: 0.2791 - val_loss: 12.0416 - val_accuracy: 0.3345\n",
      "Epoch 89/150\n",
      "6/6 [==============================] - 0s 26ms/step - loss: 10.6804 - accuracy: 0.2805 - val_loss: 12.0364 - val_accuracy: 0.3378\n",
      "Epoch 90/150\n",
      "6/6 [==============================] - 0s 20ms/step - loss: 10.6742 - accuracy: 0.2776 - val_loss: 12.0330 - val_accuracy: 0.3345\n",
      "Epoch 91/150\n",
      "6/6 [==============================] - 0s 18ms/step - loss: 10.6686 - accuracy: 0.2747 - val_loss: 12.0272 - val_accuracy: 0.3412\n",
      "Epoch 92/150\n",
      "6/6 [==============================] - 0s 18ms/step - loss: 10.6631 - accuracy: 0.2820 - val_loss: 12.0213 - val_accuracy: 0.3412\n",
      "Epoch 93/150\n",
      "6/6 [==============================] - 0s 20ms/step - loss: 10.6576 - accuracy: 0.2863 - val_loss: 12.0162 - val_accuracy: 0.3345\n",
      "Epoch 94/150\n",
      "6/6 [==============================] - 0s 17ms/step - loss: 10.6520 - accuracy: 0.2936 - val_loss: 12.0115 - val_accuracy: 0.3412\n",
      "Epoch 95/150\n",
      "6/6 [==============================] - 0s 17ms/step - loss: 10.6467 - accuracy: 0.2907 - val_loss: 12.0079 - val_accuracy: 0.3412\n",
      "Epoch 96/150\n",
      "6/6 [==============================] - 0s 18ms/step - loss: 10.6411 - accuracy: 0.2951 - val_loss: 12.0027 - val_accuracy: 0.3480\n",
      "Epoch 97/150\n",
      "6/6 [==============================] - 0s 16ms/step - loss: 10.6358 - accuracy: 0.3009 - val_loss: 11.9997 - val_accuracy: 0.3446\n",
      "Epoch 98/150\n",
      "6/6 [==============================] - 0s 21ms/step - loss: 10.6308 - accuracy: 0.2994 - val_loss: 11.9956 - val_accuracy: 0.3412\n",
      "Epoch 99/150\n",
      "6/6 [==============================] - 0s 20ms/step - loss: 10.6255 - accuracy: 0.3023 - val_loss: 11.9919 - val_accuracy: 0.3446\n",
      "Epoch 100/150\n",
      "6/6 [==============================] - 0s 18ms/step - loss: 10.6207 - accuracy: 0.3038 - val_loss: 11.9889 - val_accuracy: 0.3446\n",
      "Epoch 101/150\n",
      "6/6 [==============================] - 0s 21ms/step - loss: 10.6156 - accuracy: 0.3038 - val_loss: 11.9835 - val_accuracy: 0.3446\n",
      "Epoch 102/150\n",
      "6/6 [==============================] - 0s 17ms/step - loss: 10.6112 - accuracy: 0.3081 - val_loss: 11.9796 - val_accuracy: 0.3412\n",
      "Epoch 103/150\n",
      "6/6 [==============================] - 0s 18ms/step - loss: 10.6076 - accuracy: 0.2980 - val_loss: 11.9750 - val_accuracy: 0.3480\n",
      "Epoch 104/150\n",
      "6/6 [==============================] - 0s 18ms/step - loss: 10.6019 - accuracy: 0.3081 - val_loss: 11.9730 - val_accuracy: 0.3480\n",
      "Epoch 105/150\n",
      "6/6 [==============================] - 0s 19ms/step - loss: 10.5974 - accuracy: 0.3096 - val_loss: 11.9687 - val_accuracy: 0.3514\n",
      "Epoch 106/150\n",
      "1/6 [====>.........................] - ETA: 0s - loss: 11.9131 - accuracy: 0.2734"
     ]
    },
    {
     "ename": "KeyboardInterrupt",
     "evalue": "",
     "output_type": "error",
     "traceback": [
      "\u001b[1;31m---------------------------------------------------------------------------\u001b[0m",
      "\u001b[1;31mKeyboardInterrupt\u001b[0m                         Traceback (most recent call last)",
      "Input \u001b[1;32mIn [207]\u001b[0m, in \u001b[0;36m<cell line: 3>\u001b[1;34m()\u001b[0m\n\u001b[0;32m      1\u001b[0m \u001b[38;5;66;03m# we train on unbalanced data set\u001b[39;00m\n\u001b[0;32m      2\u001b[0m train_start_time \u001b[38;5;241m=\u001b[39m time\u001b[38;5;241m.\u001b[39mtime()\n\u001b[1;32m----> 3\u001b[0m modelAEB \u001b[38;5;241m=\u001b[39m \u001b[43mautoencoder\u001b[49m\u001b[38;5;241;43m.\u001b[39;49m\u001b[43mfit\u001b[49m\u001b[43m(\u001b[49m\u001b[43mx\u001b[49m\u001b[38;5;241;43m=\u001b[39;49m\u001b[43mX_train_under\u001b[49m\u001b[43m,\u001b[49m\u001b[43m \u001b[49m\u001b[43my\u001b[49m\u001b[38;5;241;43m=\u001b[39;49m\u001b[43mX_train_under\u001b[49m\u001b[43m,\u001b[49m\n\u001b[0;32m      4\u001b[0m \u001b[43m                          \u001b[49m\u001b[43mepochs\u001b[49m\u001b[38;5;241;43m=\u001b[39;49m\u001b[43mnb_epoch\u001b[49m\u001b[38;5;241;43m*\u001b[39;49m\u001b[38;5;241;43m3\u001b[39;49m\u001b[43m,\u001b[49m\n\u001b[0;32m      5\u001b[0m \u001b[43m                          \u001b[49m\u001b[43mbatch_size\u001b[49m\u001b[38;5;241;43m=\u001b[39;49m\u001b[43mbatch_size\u001b[49m\u001b[43m,\u001b[49m\n\u001b[0;32m      6\u001b[0m \u001b[43m                          \u001b[49m\u001b[43mshuffle\u001b[49m\u001b[38;5;241;43m=\u001b[39;49m\u001b[38;5;28;43;01mTrue\u001b[39;49;00m\u001b[43m,\u001b[49m\n\u001b[0;32m      7\u001b[0m \u001b[43m                          \u001b[49m\u001b[43mvalidation_data\u001b[49m\u001b[38;5;241;43m=\u001b[39;49m\u001b[43m(\u001b[49m\u001b[43mX_test_under\u001b[49m\u001b[43m,\u001b[49m\u001b[43m \u001b[49m\u001b[43mX_test_under\u001b[49m\u001b[43m)\u001b[49m\u001b[43m,\u001b[49m\n\u001b[0;32m      8\u001b[0m \u001b[43m                          \u001b[49m\u001b[43mverbose\u001b[49m\u001b[38;5;241;43m=\u001b[39;49m\u001b[38;5;241;43m1\u001b[39;49m\u001b[43m,\u001b[49m\n\u001b[0;32m      9\u001b[0m \u001b[43m                          \u001b[49m\u001b[43mcallbacks\u001b[49m\u001b[38;5;241;43m=\u001b[39;49m\u001b[43m[\u001b[49m\u001b[43mcp\u001b[49m\u001b[43m,\u001b[49m\u001b[43m \u001b[49m\u001b[43mtb\u001b[49m\u001b[43m]\u001b[49m\u001b[43m)\u001b[49m\u001b[38;5;241m.\u001b[39mhistory\n\u001b[0;32m     10\u001b[0m train_end_time \u001b[38;5;241m=\u001b[39m time\u001b[38;5;241m.\u001b[39mtime()\n\u001b[0;32m     12\u001b[0m \u001b[38;5;28mprint\u001b[39m(\u001b[38;5;124m\"\u001b[39m\u001b[38;5;124mTraining takes:\u001b[39m\u001b[38;5;124m\"\u001b[39m, \u001b[38;5;28mint\u001b[39m(train_end_time\u001b[38;5;241m-\u001b[39mtrain_start_time), \u001b[38;5;124m\"\u001b[39m\u001b[38;5;124mseconds\u001b[39m\u001b[38;5;124m\"\u001b[39m)\n",
      "File \u001b[1;32m~\\AppData\\Local\\Programs\\Python\\Python39\\lib\\site-packages\\keras\\utils\\traceback_utils.py:64\u001b[0m, in \u001b[0;36mfilter_traceback.<locals>.error_handler\u001b[1;34m(*args, **kwargs)\u001b[0m\n\u001b[0;32m     62\u001b[0m filtered_tb \u001b[38;5;241m=\u001b[39m \u001b[38;5;28;01mNone\u001b[39;00m\n\u001b[0;32m     63\u001b[0m \u001b[38;5;28;01mtry\u001b[39;00m:\n\u001b[1;32m---> 64\u001b[0m   \u001b[38;5;28;01mreturn\u001b[39;00m fn(\u001b[38;5;241m*\u001b[39margs, \u001b[38;5;241m*\u001b[39m\u001b[38;5;241m*\u001b[39mkwargs)\n\u001b[0;32m     65\u001b[0m \u001b[38;5;28;01mexcept\u001b[39;00m \u001b[38;5;167;01mException\u001b[39;00m \u001b[38;5;28;01mas\u001b[39;00m e:  \u001b[38;5;66;03m# pylint: disable=broad-except\u001b[39;00m\n\u001b[0;32m     66\u001b[0m   filtered_tb \u001b[38;5;241m=\u001b[39m _process_traceback_frames(e\u001b[38;5;241m.\u001b[39m__traceback__)\n",
      "File \u001b[1;32m~\\AppData\\Local\\Programs\\Python\\Python39\\lib\\site-packages\\keras\\engine\\training.py:1445\u001b[0m, in \u001b[0;36mModel.fit\u001b[1;34m(self, x, y, batch_size, epochs, verbose, callbacks, validation_split, validation_data, shuffle, class_weight, sample_weight, initial_epoch, steps_per_epoch, validation_steps, validation_batch_size, validation_freq, max_queue_size, workers, use_multiprocessing)\u001b[0m\n\u001b[0;32m   1431\u001b[0m \u001b[38;5;28;01mif\u001b[39;00m \u001b[38;5;28mgetattr\u001b[39m(\u001b[38;5;28mself\u001b[39m, \u001b[38;5;124m'\u001b[39m\u001b[38;5;124m_eval_data_handler\u001b[39m\u001b[38;5;124m'\u001b[39m, \u001b[38;5;28;01mNone\u001b[39;00m) \u001b[38;5;129;01mis\u001b[39;00m \u001b[38;5;28;01mNone\u001b[39;00m:\n\u001b[0;32m   1432\u001b[0m   \u001b[38;5;28mself\u001b[39m\u001b[38;5;241m.\u001b[39m_eval_data_handler \u001b[38;5;241m=\u001b[39m data_adapter\u001b[38;5;241m.\u001b[39mget_data_handler(\n\u001b[0;32m   1433\u001b[0m       x\u001b[38;5;241m=\u001b[39mval_x,\n\u001b[0;32m   1434\u001b[0m       y\u001b[38;5;241m=\u001b[39mval_y,\n\u001b[1;32m   (...)\u001b[0m\n\u001b[0;32m   1443\u001b[0m       model\u001b[38;5;241m=\u001b[39m\u001b[38;5;28mself\u001b[39m,\n\u001b[0;32m   1444\u001b[0m       steps_per_execution\u001b[38;5;241m=\u001b[39m\u001b[38;5;28mself\u001b[39m\u001b[38;5;241m.\u001b[39m_steps_per_execution)\n\u001b[1;32m-> 1445\u001b[0m val_logs \u001b[38;5;241m=\u001b[39m \u001b[38;5;28;43mself\u001b[39;49m\u001b[38;5;241;43m.\u001b[39;49m\u001b[43mevaluate\u001b[49m\u001b[43m(\u001b[49m\n\u001b[0;32m   1446\u001b[0m \u001b[43m    \u001b[49m\u001b[43mx\u001b[49m\u001b[38;5;241;43m=\u001b[39;49m\u001b[43mval_x\u001b[49m\u001b[43m,\u001b[49m\n\u001b[0;32m   1447\u001b[0m \u001b[43m    \u001b[49m\u001b[43my\u001b[49m\u001b[38;5;241;43m=\u001b[39;49m\u001b[43mval_y\u001b[49m\u001b[43m,\u001b[49m\n\u001b[0;32m   1448\u001b[0m \u001b[43m    \u001b[49m\u001b[43msample_weight\u001b[49m\u001b[38;5;241;43m=\u001b[39;49m\u001b[43mval_sample_weight\u001b[49m\u001b[43m,\u001b[49m\n\u001b[0;32m   1449\u001b[0m \u001b[43m    \u001b[49m\u001b[43mbatch_size\u001b[49m\u001b[38;5;241;43m=\u001b[39;49m\u001b[43mvalidation_batch_size\u001b[49m\u001b[43m \u001b[49m\u001b[38;5;129;43;01mor\u001b[39;49;00m\u001b[43m \u001b[49m\u001b[43mbatch_size\u001b[49m\u001b[43m,\u001b[49m\n\u001b[0;32m   1450\u001b[0m \u001b[43m    \u001b[49m\u001b[43msteps\u001b[49m\u001b[38;5;241;43m=\u001b[39;49m\u001b[43mvalidation_steps\u001b[49m\u001b[43m,\u001b[49m\n\u001b[0;32m   1451\u001b[0m \u001b[43m    \u001b[49m\u001b[43mcallbacks\u001b[49m\u001b[38;5;241;43m=\u001b[39;49m\u001b[43mcallbacks\u001b[49m\u001b[43m,\u001b[49m\n\u001b[0;32m   1452\u001b[0m \u001b[43m    \u001b[49m\u001b[43mmax_queue_size\u001b[49m\u001b[38;5;241;43m=\u001b[39;49m\u001b[43mmax_queue_size\u001b[49m\u001b[43m,\u001b[49m\n\u001b[0;32m   1453\u001b[0m \u001b[43m    \u001b[49m\u001b[43mworkers\u001b[49m\u001b[38;5;241;43m=\u001b[39;49m\u001b[43mworkers\u001b[49m\u001b[43m,\u001b[49m\n\u001b[0;32m   1454\u001b[0m \u001b[43m    \u001b[49m\u001b[43muse_multiprocessing\u001b[49m\u001b[38;5;241;43m=\u001b[39;49m\u001b[43muse_multiprocessing\u001b[49m\u001b[43m,\u001b[49m\n\u001b[0;32m   1455\u001b[0m \u001b[43m    \u001b[49m\u001b[43mreturn_dict\u001b[49m\u001b[38;5;241;43m=\u001b[39;49m\u001b[38;5;28;43;01mTrue\u001b[39;49;00m\u001b[43m,\u001b[49m\n\u001b[0;32m   1456\u001b[0m \u001b[43m    \u001b[49m\u001b[43m_use_cached_eval_dataset\u001b[49m\u001b[38;5;241;43m=\u001b[39;49m\u001b[38;5;28;43;01mTrue\u001b[39;49;00m\u001b[43m)\u001b[49m\n\u001b[0;32m   1457\u001b[0m val_logs \u001b[38;5;241m=\u001b[39m {\u001b[38;5;124m'\u001b[39m\u001b[38;5;124mval_\u001b[39m\u001b[38;5;124m'\u001b[39m \u001b[38;5;241m+\u001b[39m name: val \u001b[38;5;28;01mfor\u001b[39;00m name, val \u001b[38;5;129;01min\u001b[39;00m val_logs\u001b[38;5;241m.\u001b[39mitems()}\n\u001b[0;32m   1458\u001b[0m epoch_logs\u001b[38;5;241m.\u001b[39mupdate(val_logs)\n",
      "File \u001b[1;32m~\\AppData\\Local\\Programs\\Python\\Python39\\lib\\site-packages\\keras\\utils\\traceback_utils.py:64\u001b[0m, in \u001b[0;36mfilter_traceback.<locals>.error_handler\u001b[1;34m(*args, **kwargs)\u001b[0m\n\u001b[0;32m     62\u001b[0m filtered_tb \u001b[38;5;241m=\u001b[39m \u001b[38;5;28;01mNone\u001b[39;00m\n\u001b[0;32m     63\u001b[0m \u001b[38;5;28;01mtry\u001b[39;00m:\n\u001b[1;32m---> 64\u001b[0m   \u001b[38;5;28;01mreturn\u001b[39;00m fn(\u001b[38;5;241m*\u001b[39margs, \u001b[38;5;241m*\u001b[39m\u001b[38;5;241m*\u001b[39mkwargs)\n\u001b[0;32m     65\u001b[0m \u001b[38;5;28;01mexcept\u001b[39;00m \u001b[38;5;167;01mException\u001b[39;00m \u001b[38;5;28;01mas\u001b[39;00m e:  \u001b[38;5;66;03m# pylint: disable=broad-except\u001b[39;00m\n\u001b[0;32m     66\u001b[0m   filtered_tb \u001b[38;5;241m=\u001b[39m _process_traceback_frames(e\u001b[38;5;241m.\u001b[39m__traceback__)\n",
      "File \u001b[1;32m~\\AppData\\Local\\Programs\\Python\\Python39\\lib\\site-packages\\keras\\engine\\training.py:1756\u001b[0m, in \u001b[0;36mModel.evaluate\u001b[1;34m(self, x, y, batch_size, verbose, sample_weight, steps, callbacks, max_queue_size, workers, use_multiprocessing, return_dict, **kwargs)\u001b[0m\n\u001b[0;32m   1754\u001b[0m \u001b[38;5;28;01mwith\u001b[39;00m tf\u001b[38;5;241m.\u001b[39mprofiler\u001b[38;5;241m.\u001b[39mexperimental\u001b[38;5;241m.\u001b[39mTrace(\u001b[38;5;124m'\u001b[39m\u001b[38;5;124mtest\u001b[39m\u001b[38;5;124m'\u001b[39m, step_num\u001b[38;5;241m=\u001b[39mstep, _r\u001b[38;5;241m=\u001b[39m\u001b[38;5;241m1\u001b[39m):\n\u001b[0;32m   1755\u001b[0m   callbacks\u001b[38;5;241m.\u001b[39mon_test_batch_begin(step)\n\u001b[1;32m-> 1756\u001b[0m   tmp_logs \u001b[38;5;241m=\u001b[39m \u001b[38;5;28;43mself\u001b[39;49m\u001b[38;5;241;43m.\u001b[39;49m\u001b[43mtest_function\u001b[49m\u001b[43m(\u001b[49m\u001b[43miterator\u001b[49m\u001b[43m)\u001b[49m\n\u001b[0;32m   1757\u001b[0m   \u001b[38;5;28;01mif\u001b[39;00m data_handler\u001b[38;5;241m.\u001b[39mshould_sync:\n\u001b[0;32m   1758\u001b[0m     context\u001b[38;5;241m.\u001b[39masync_wait()\n",
      "File \u001b[1;32m~\\AppData\\Local\\Programs\\Python\\Python39\\lib\\site-packages\\tensorflow\\python\\util\\traceback_utils.py:150\u001b[0m, in \u001b[0;36mfilter_traceback.<locals>.error_handler\u001b[1;34m(*args, **kwargs)\u001b[0m\n\u001b[0;32m    148\u001b[0m filtered_tb \u001b[38;5;241m=\u001b[39m \u001b[38;5;28;01mNone\u001b[39;00m\n\u001b[0;32m    149\u001b[0m \u001b[38;5;28;01mtry\u001b[39;00m:\n\u001b[1;32m--> 150\u001b[0m   \u001b[38;5;28;01mreturn\u001b[39;00m fn(\u001b[38;5;241m*\u001b[39margs, \u001b[38;5;241m*\u001b[39m\u001b[38;5;241m*\u001b[39mkwargs)\n\u001b[0;32m    151\u001b[0m \u001b[38;5;28;01mexcept\u001b[39;00m \u001b[38;5;167;01mException\u001b[39;00m \u001b[38;5;28;01mas\u001b[39;00m e:\n\u001b[0;32m    152\u001b[0m   filtered_tb \u001b[38;5;241m=\u001b[39m _process_traceback_frames(e\u001b[38;5;241m.\u001b[39m__traceback__)\n",
      "File \u001b[1;32m~\\AppData\\Local\\Programs\\Python\\Python39\\lib\\site-packages\\tensorflow\\python\\eager\\def_function.py:915\u001b[0m, in \u001b[0;36mFunction.__call__\u001b[1;34m(self, *args, **kwds)\u001b[0m\n\u001b[0;32m    912\u001b[0m compiler \u001b[38;5;241m=\u001b[39m \u001b[38;5;124m\"\u001b[39m\u001b[38;5;124mxla\u001b[39m\u001b[38;5;124m\"\u001b[39m \u001b[38;5;28;01mif\u001b[39;00m \u001b[38;5;28mself\u001b[39m\u001b[38;5;241m.\u001b[39m_jit_compile \u001b[38;5;28;01melse\u001b[39;00m \u001b[38;5;124m\"\u001b[39m\u001b[38;5;124mnonXla\u001b[39m\u001b[38;5;124m\"\u001b[39m\n\u001b[0;32m    914\u001b[0m \u001b[38;5;28;01mwith\u001b[39;00m OptionalXlaContext(\u001b[38;5;28mself\u001b[39m\u001b[38;5;241m.\u001b[39m_jit_compile):\n\u001b[1;32m--> 915\u001b[0m   result \u001b[38;5;241m=\u001b[39m \u001b[38;5;28mself\u001b[39m\u001b[38;5;241m.\u001b[39m_call(\u001b[38;5;241m*\u001b[39margs, \u001b[38;5;241m*\u001b[39m\u001b[38;5;241m*\u001b[39mkwds)\n\u001b[0;32m    917\u001b[0m new_tracing_count \u001b[38;5;241m=\u001b[39m \u001b[38;5;28mself\u001b[39m\u001b[38;5;241m.\u001b[39mexperimental_get_tracing_count()\n\u001b[0;32m    918\u001b[0m without_tracing \u001b[38;5;241m=\u001b[39m (tracing_count \u001b[38;5;241m==\u001b[39m new_tracing_count)\n",
      "File \u001b[1;32m~\\AppData\\Local\\Programs\\Python\\Python39\\lib\\site-packages\\tensorflow\\python\\eager\\def_function.py:954\u001b[0m, in \u001b[0;36mFunction._call\u001b[1;34m(self, *args, **kwds)\u001b[0m\n\u001b[0;32m    951\u001b[0m \u001b[38;5;28mself\u001b[39m\u001b[38;5;241m.\u001b[39m_lock\u001b[38;5;241m.\u001b[39mrelease()\n\u001b[0;32m    952\u001b[0m \u001b[38;5;66;03m# In this case we have not created variables on the first call. So we can\u001b[39;00m\n\u001b[0;32m    953\u001b[0m \u001b[38;5;66;03m# run the first trace but we should fail if variables are created.\u001b[39;00m\n\u001b[1;32m--> 954\u001b[0m results \u001b[38;5;241m=\u001b[39m \u001b[38;5;28mself\u001b[39m\u001b[38;5;241m.\u001b[39m_stateful_fn(\u001b[38;5;241m*\u001b[39margs, \u001b[38;5;241m*\u001b[39m\u001b[38;5;241m*\u001b[39mkwds)\n\u001b[0;32m    955\u001b[0m \u001b[38;5;28;01mif\u001b[39;00m \u001b[38;5;28mself\u001b[39m\u001b[38;5;241m.\u001b[39m_created_variables \u001b[38;5;129;01mand\u001b[39;00m \u001b[38;5;129;01mnot\u001b[39;00m ALLOW_DYNAMIC_VARIABLE_CREATION:\n\u001b[0;32m    956\u001b[0m   \u001b[38;5;28;01mraise\u001b[39;00m \u001b[38;5;167;01mValueError\u001b[39;00m(\u001b[38;5;124m\"\u001b[39m\u001b[38;5;124mCreating variables on a non-first call to a function\u001b[39m\u001b[38;5;124m\"\u001b[39m\n\u001b[0;32m    957\u001b[0m                    \u001b[38;5;124m\"\u001b[39m\u001b[38;5;124m decorated with tf.function.\u001b[39m\u001b[38;5;124m\"\u001b[39m)\n",
      "File \u001b[1;32m~\\AppData\\Local\\Programs\\Python\\Python39\\lib\\site-packages\\tensorflow\\python\\eager\\function.py:2453\u001b[0m, in \u001b[0;36mFunction.__call__\u001b[1;34m(self, *args, **kwargs)\u001b[0m\n\u001b[0;32m   2450\u001b[0m \u001b[38;5;28;01mwith\u001b[39;00m \u001b[38;5;28mself\u001b[39m\u001b[38;5;241m.\u001b[39m_lock:\n\u001b[0;32m   2451\u001b[0m   (graph_function,\n\u001b[0;32m   2452\u001b[0m    filtered_flat_args) \u001b[38;5;241m=\u001b[39m \u001b[38;5;28mself\u001b[39m\u001b[38;5;241m.\u001b[39m_maybe_define_function(args, kwargs)\n\u001b[1;32m-> 2453\u001b[0m \u001b[38;5;28;01mreturn\u001b[39;00m \u001b[43mgraph_function\u001b[49m\u001b[38;5;241;43m.\u001b[39;49m\u001b[43m_call_flat\u001b[49m\u001b[43m(\u001b[49m\n\u001b[0;32m   2454\u001b[0m \u001b[43m    \u001b[49m\u001b[43mfiltered_flat_args\u001b[49m\u001b[43m,\u001b[49m\u001b[43m \u001b[49m\u001b[43mcaptured_inputs\u001b[49m\u001b[38;5;241;43m=\u001b[39;49m\u001b[43mgraph_function\u001b[49m\u001b[38;5;241;43m.\u001b[39;49m\u001b[43mcaptured_inputs\u001b[49m\u001b[43m)\u001b[49m\n",
      "File \u001b[1;32m~\\AppData\\Local\\Programs\\Python\\Python39\\lib\\site-packages\\tensorflow\\python\\eager\\function.py:1860\u001b[0m, in \u001b[0;36mConcreteFunction._call_flat\u001b[1;34m(self, args, captured_inputs, cancellation_manager)\u001b[0m\n\u001b[0;32m   1856\u001b[0m possible_gradient_type \u001b[38;5;241m=\u001b[39m gradients_util\u001b[38;5;241m.\u001b[39mPossibleTapeGradientTypes(args)\n\u001b[0;32m   1857\u001b[0m \u001b[38;5;28;01mif\u001b[39;00m (possible_gradient_type \u001b[38;5;241m==\u001b[39m gradients_util\u001b[38;5;241m.\u001b[39mPOSSIBLE_GRADIENT_TYPES_NONE\n\u001b[0;32m   1858\u001b[0m     \u001b[38;5;129;01mand\u001b[39;00m executing_eagerly):\n\u001b[0;32m   1859\u001b[0m   \u001b[38;5;66;03m# No tape is watching; skip to running the function.\u001b[39;00m\n\u001b[1;32m-> 1860\u001b[0m   \u001b[38;5;28;01mreturn\u001b[39;00m \u001b[38;5;28mself\u001b[39m\u001b[38;5;241m.\u001b[39m_build_call_outputs(\u001b[38;5;28;43mself\u001b[39;49m\u001b[38;5;241;43m.\u001b[39;49m\u001b[43m_inference_function\u001b[49m\u001b[38;5;241;43m.\u001b[39;49m\u001b[43mcall\u001b[49m\u001b[43m(\u001b[49m\n\u001b[0;32m   1861\u001b[0m \u001b[43m      \u001b[49m\u001b[43mctx\u001b[49m\u001b[43m,\u001b[49m\u001b[43m \u001b[49m\u001b[43margs\u001b[49m\u001b[43m,\u001b[49m\u001b[43m \u001b[49m\u001b[43mcancellation_manager\u001b[49m\u001b[38;5;241;43m=\u001b[39;49m\u001b[43mcancellation_manager\u001b[49m\u001b[43m)\u001b[49m)\n\u001b[0;32m   1862\u001b[0m forward_backward \u001b[38;5;241m=\u001b[39m \u001b[38;5;28mself\u001b[39m\u001b[38;5;241m.\u001b[39m_select_forward_and_backward_functions(\n\u001b[0;32m   1863\u001b[0m     args,\n\u001b[0;32m   1864\u001b[0m     possible_gradient_type,\n\u001b[0;32m   1865\u001b[0m     executing_eagerly)\n\u001b[0;32m   1866\u001b[0m forward_function, args_with_tangents \u001b[38;5;241m=\u001b[39m forward_backward\u001b[38;5;241m.\u001b[39mforward()\n",
      "File \u001b[1;32m~\\AppData\\Local\\Programs\\Python\\Python39\\lib\\site-packages\\tensorflow\\python\\eager\\function.py:497\u001b[0m, in \u001b[0;36m_EagerDefinedFunction.call\u001b[1;34m(self, ctx, args, cancellation_manager)\u001b[0m\n\u001b[0;32m    495\u001b[0m \u001b[38;5;28;01mwith\u001b[39;00m _InterpolateFunctionError(\u001b[38;5;28mself\u001b[39m):\n\u001b[0;32m    496\u001b[0m   \u001b[38;5;28;01mif\u001b[39;00m cancellation_manager \u001b[38;5;129;01mis\u001b[39;00m \u001b[38;5;28;01mNone\u001b[39;00m:\n\u001b[1;32m--> 497\u001b[0m     outputs \u001b[38;5;241m=\u001b[39m \u001b[43mexecute\u001b[49m\u001b[38;5;241;43m.\u001b[39;49m\u001b[43mexecute\u001b[49m\u001b[43m(\u001b[49m\n\u001b[0;32m    498\u001b[0m \u001b[43m        \u001b[49m\u001b[38;5;28;43mstr\u001b[39;49m\u001b[43m(\u001b[49m\u001b[38;5;28;43mself\u001b[39;49m\u001b[38;5;241;43m.\u001b[39;49m\u001b[43msignature\u001b[49m\u001b[38;5;241;43m.\u001b[39;49m\u001b[43mname\u001b[49m\u001b[43m)\u001b[49m\u001b[43m,\u001b[49m\n\u001b[0;32m    499\u001b[0m \u001b[43m        \u001b[49m\u001b[43mnum_outputs\u001b[49m\u001b[38;5;241;43m=\u001b[39;49m\u001b[38;5;28;43mself\u001b[39;49m\u001b[38;5;241;43m.\u001b[39;49m\u001b[43m_num_outputs\u001b[49m\u001b[43m,\u001b[49m\n\u001b[0;32m    500\u001b[0m \u001b[43m        \u001b[49m\u001b[43minputs\u001b[49m\u001b[38;5;241;43m=\u001b[39;49m\u001b[43margs\u001b[49m\u001b[43m,\u001b[49m\n\u001b[0;32m    501\u001b[0m \u001b[43m        \u001b[49m\u001b[43mattrs\u001b[49m\u001b[38;5;241;43m=\u001b[39;49m\u001b[43mattrs\u001b[49m\u001b[43m,\u001b[49m\n\u001b[0;32m    502\u001b[0m \u001b[43m        \u001b[49m\u001b[43mctx\u001b[49m\u001b[38;5;241;43m=\u001b[39;49m\u001b[43mctx\u001b[49m\u001b[43m)\u001b[49m\n\u001b[0;32m    503\u001b[0m   \u001b[38;5;28;01melse\u001b[39;00m:\n\u001b[0;32m    504\u001b[0m     outputs \u001b[38;5;241m=\u001b[39m execute\u001b[38;5;241m.\u001b[39mexecute_with_cancellation(\n\u001b[0;32m    505\u001b[0m         \u001b[38;5;28mstr\u001b[39m(\u001b[38;5;28mself\u001b[39m\u001b[38;5;241m.\u001b[39msignature\u001b[38;5;241m.\u001b[39mname),\n\u001b[0;32m    506\u001b[0m         num_outputs\u001b[38;5;241m=\u001b[39m\u001b[38;5;28mself\u001b[39m\u001b[38;5;241m.\u001b[39m_num_outputs,\n\u001b[1;32m   (...)\u001b[0m\n\u001b[0;32m    509\u001b[0m         ctx\u001b[38;5;241m=\u001b[39mctx,\n\u001b[0;32m    510\u001b[0m         cancellation_manager\u001b[38;5;241m=\u001b[39mcancellation_manager)\n",
      "File \u001b[1;32m~\\AppData\\Local\\Programs\\Python\\Python39\\lib\\site-packages\\tensorflow\\python\\eager\\execute.py:54\u001b[0m, in \u001b[0;36mquick_execute\u001b[1;34m(op_name, num_outputs, inputs, attrs, ctx, name)\u001b[0m\n\u001b[0;32m     52\u001b[0m \u001b[38;5;28;01mtry\u001b[39;00m:\n\u001b[0;32m     53\u001b[0m   ctx\u001b[38;5;241m.\u001b[39mensure_initialized()\n\u001b[1;32m---> 54\u001b[0m   tensors \u001b[38;5;241m=\u001b[39m \u001b[43mpywrap_tfe\u001b[49m\u001b[38;5;241;43m.\u001b[39;49m\u001b[43mTFE_Py_Execute\u001b[49m\u001b[43m(\u001b[49m\u001b[43mctx\u001b[49m\u001b[38;5;241;43m.\u001b[39;49m\u001b[43m_handle\u001b[49m\u001b[43m,\u001b[49m\u001b[43m \u001b[49m\u001b[43mdevice_name\u001b[49m\u001b[43m,\u001b[49m\u001b[43m \u001b[49m\u001b[43mop_name\u001b[49m\u001b[43m,\u001b[49m\n\u001b[0;32m     55\u001b[0m \u001b[43m                                      \u001b[49m\u001b[43minputs\u001b[49m\u001b[43m,\u001b[49m\u001b[43m \u001b[49m\u001b[43mattrs\u001b[49m\u001b[43m,\u001b[49m\u001b[43m \u001b[49m\u001b[43mnum_outputs\u001b[49m\u001b[43m)\u001b[49m\n\u001b[0;32m     56\u001b[0m \u001b[38;5;28;01mexcept\u001b[39;00m core\u001b[38;5;241m.\u001b[39m_NotOkStatusException \u001b[38;5;28;01mas\u001b[39;00m e:\n\u001b[0;32m     57\u001b[0m   \u001b[38;5;28;01mif\u001b[39;00m name \u001b[38;5;129;01mis\u001b[39;00m \u001b[38;5;129;01mnot\u001b[39;00m \u001b[38;5;28;01mNone\u001b[39;00m:\n",
      "\u001b[1;31mKeyboardInterrupt\u001b[0m: "
     ]
    }
   ],
   "source": [
    "# we train on unbalanced data set\n",
    "train_start_time = time.time()\n",
    "modelAEB = autoencoder.fit(x=X_train_under, y=X_train_under,\n",
    "                          epochs=nb_epoch*3,\n",
    "                          batch_size=batch_size,\n",
    "                          shuffle=True,\n",
    "                          validation_data=(X_test_under, X_test_under),\n",
    "                          verbose=1,\n",
    "                          callbacks=[cp, tb]).history\n",
    "train_end_time = time.time()\n",
    "\n",
    "print(\"Training takes:\", int(train_end_time-train_start_time), \"seconds\")"
   ]
  },
  {
   "cell_type": "code",
   "execution_count": null,
   "id": "17184f39",
   "metadata": {},
   "outputs": [],
   "source": [
    "# Visualizing metrics on local system\n",
    "!tensorboard --logdir=\"logs\" --host localhost --port 8080"
   ]
  },
  {
   "cell_type": "code",
   "execution_count": 208,
   "id": "ad8e5588",
   "metadata": {},
   "outputs": [
    {
     "data": {
      "image/png": "[encoded data removed]",
      "text/plain": [
       "<Figure size 1008x576 with 1 Axes>"
      ]
     },
     "metadata": {
      "needs_background": "light"
     },
     "output_type": "display_data"
    }
   ],
   "source": [
    "plt.figure(figsize=(14, 8))\n",
    "plt.plot(modelAEB['loss'], linewidth=2, label='Train')\n",
    "plt.plot(modelAEB['val_loss'], linewidth=2, label='Test')\n",
    "plt.legend(loc='upper right')\n",
    "plt.title('Model loss')\n",
    "plt.ylabel('Loss')\n",
    "plt.xlabel('Epoch')\n",
    "#plt.ylim(ymin=0.70,ymax=1)\n",
    "plt.show()"
   ]
  },
  {
   "cell_type": "code",
   "execution_count": 209,
   "id": "55b34561",
   "metadata": {},
   "outputs": [
    {
     "name": "stdout",
     "output_type": "stream",
     "text": [
      "22/22 [==============================] - 0s 1ms/step\n"
     ]
    },
    {
     "data": {
      "text/html": [
       "<div>\n",
       "<style scoped>\n",
       "    .dataframe tbody tr th:only-of-type {\n",
       "        vertical-align: middle;\n",
       "    }\n",
       "\n",
       "    .dataframe tbody tr th {\n",
       "        vertical-align: top;\n",
       "    }\n",
       "\n",
       "    .dataframe thead th {\n",
       "        text-align: right;\n",
       "    }\n",
       "</style>\n",
       "<table border=\"1\" class=\"dataframe\">\n",
       "  <thead>\n",
       "    <tr style=\"text-align: right;\">\n",
       "      <th></th>\n",
       "      <th>Reconstruction_error</th>\n",
       "      <th>True_class</th>\n",
       "    </tr>\n",
       "  </thead>\n",
       "  <tbody>\n",
       "    <tr>\n",
       "      <th>count</th>\n",
       "      <td>688.000000</td>\n",
       "      <td>688.000000</td>\n",
       "    </tr>\n",
       "    <tr>\n",
       "      <th>mean</th>\n",
       "      <td>10.589745</td>\n",
       "      <td>0.501453</td>\n",
       "    </tr>\n",
       "    <tr>\n",
       "      <th>std</th>\n",
       "      <td>22.226512</td>\n",
       "      <td>0.500362</td>\n",
       "    </tr>\n",
       "    <tr>\n",
       "      <th>min</th>\n",
       "      <td>0.166252</td>\n",
       "      <td>0.000000</td>\n",
       "    </tr>\n",
       "    <tr>\n",
       "      <th>25%</th>\n",
       "      <td>0.566445</td>\n",
       "      <td>0.000000</td>\n",
       "    </tr>\n",
       "    <tr>\n",
       "      <th>50%</th>\n",
       "      <td>1.244922</td>\n",
       "      <td>1.000000</td>\n",
       "    </tr>\n",
       "    <tr>\n",
       "      <th>75%</th>\n",
       "      <td>7.292461</td>\n",
       "      <td>1.000000</td>\n",
       "    </tr>\n",
       "    <tr>\n",
       "      <th>max</th>\n",
       "      <td>178.061344</td>\n",
       "      <td>1.000000</td>\n",
       "    </tr>\n",
       "  </tbody>\n",
       "</table>\n",
       "</div>"
      ],
      "text/plain": [
       "       Reconstruction_error  True_class\n",
       "count            688.000000  688.000000\n",
       "mean              10.589745    0.501453\n",
       "std               22.226512    0.500362\n",
       "min                0.166252    0.000000\n",
       "25%                0.566445    0.000000\n",
       "50%                1.244922    1.000000\n",
       "75%                7.292461    1.000000\n",
       "max              178.061344    1.000000"
      ]
     },
     "execution_count": 209,
     "metadata": {},
     "output_type": "execute_result"
    }
   ],
   "source": [
    "# evaluation on train data\n",
    "train_x_predictions = autoencoder.predict(X_train_under)\n",
    "mse = np.mean(np.power(X_train_under - train_x_predictions, 2), axis=1)\n",
    "error_df = pd.DataFrame({'Reconstruction_error': mse,\n",
    "                        'True_class': y_train_under[\"Class\"]})\n",
    "error_df.describe()"
   ]
  },
  {
   "cell_type": "code",
   "execution_count": 211,
   "id": "f4a16b5f",
   "metadata": {},
   "outputs": [
    {
     "data": {
      "image/png": "[encoded data removed]",
      "text/plain": [
       "<Figure size 432x288 with 2 Axes>"
      ]
     },
     "metadata": {
      "needs_background": "light"
     },
     "output_type": "display_data"
    }
   ],
   "source": [
    "#result on train data\n",
    "pred_y = [1 if e > THRESHOLD_FIXED else 0 for e in error_df.Reconstruction_error.values]\n",
    "cm = confusion_matrix(y_train_under, pred_y, normalize='true')\n",
    "disp = ConfusionMatrixDisplay(confusion_matrix=cm, display_labels=[\"not_fraud\", \"fraud\"])\n",
    "disp.plot()\n",
    "plt.show()"
   ]
  },
  {
   "cell_type": "code",
   "execution_count": 212,
   "id": "b894b157",
   "metadata": {},
   "outputs": [
    {
     "name": "stdout",
     "output_type": "stream",
     "text": [
      "10/10 [==============================] - 0s 1ms/step\n"
     ]
    },
    {
     "data": {
      "text/html": [
       "<div>\n",
       "<style scoped>\n",
       "    .dataframe tbody tr th:only-of-type {\n",
       "        vertical-align: middle;\n",
       "    }\n",
       "\n",
       "    .dataframe tbody tr th {\n",
       "        vertical-align: top;\n",
       "    }\n",
       "\n",
       "    .dataframe thead th {\n",
       "        text-align: right;\n",
       "    }\n",
       "</style>\n",
       "<table border=\"1\" class=\"dataframe\">\n",
       "  <thead>\n",
       "    <tr style=\"text-align: right;\">\n",
       "      <th></th>\n",
       "      <th>Reconstruction_error</th>\n",
       "      <th>True_class</th>\n",
       "    </tr>\n",
       "  </thead>\n",
       "  <tbody>\n",
       "    <tr>\n",
       "      <th>count</th>\n",
       "      <td>296.000000</td>\n",
       "      <td>296.000000</td>\n",
       "    </tr>\n",
       "    <tr>\n",
       "      <th>mean</th>\n",
       "      <td>11.964656</td>\n",
       "      <td>0.496622</td>\n",
       "    </tr>\n",
       "    <tr>\n",
       "      <th>std</th>\n",
       "      <td>30.088462</td>\n",
       "      <td>0.500835</td>\n",
       "    </tr>\n",
       "    <tr>\n",
       "      <th>min</th>\n",
       "      <td>0.203679</td>\n",
       "      <td>0.000000</td>\n",
       "    </tr>\n",
       "    <tr>\n",
       "      <th>25%</th>\n",
       "      <td>0.636662</td>\n",
       "      <td>0.000000</td>\n",
       "    </tr>\n",
       "    <tr>\n",
       "      <th>50%</th>\n",
       "      <td>1.259394</td>\n",
       "      <td>0.000000</td>\n",
       "    </tr>\n",
       "    <tr>\n",
       "      <th>75%</th>\n",
       "      <td>7.003213</td>\n",
       "      <td>1.000000</td>\n",
       "    </tr>\n",
       "    <tr>\n",
       "      <th>max</th>\n",
       "      <td>255.415002</td>\n",
       "      <td>1.000000</td>\n",
       "    </tr>\n",
       "  </tbody>\n",
       "</table>\n",
       "</div>"
      ],
      "text/plain": [
       "       Reconstruction_error  True_class\n",
       "count            296.000000  296.000000\n",
       "mean              11.964656    0.496622\n",
       "std               30.088462    0.500835\n",
       "min                0.203679    0.000000\n",
       "25%                0.636662    0.000000\n",
       "50%                1.259394    0.000000\n",
       "75%                7.003213    1.000000\n",
       "max              255.415002    1.000000"
      ]
     },
     "execution_count": 212,
     "metadata": {},
     "output_type": "execute_result"
    }
   ],
   "source": [
    "#evaluation on test data under sampled\n",
    "train_x_predictions = autoencoder.predict(X_test_under)\n",
    "mse = np.mean(np.power(X_test_under - train_x_predictions, 2), axis=1)\n",
    "error_df = pd.DataFrame({'Reconstruction_error': mse,\n",
    "                        'True_class': y_test_under[\"Class\"]})\n",
    "error_df.describe()"
   ]
  },
  {
   "cell_type": "code",
   "execution_count": 213,
   "id": "20d1f45e",
   "metadata": {},
   "outputs": [
    {
     "data": {
      "image/png": "[encoded data removed]",
      "text/plain": [
       "<Figure size 432x288 with 2 Axes>"
      ]
     },
     "metadata": {
      "needs_background": "light"
     },
     "output_type": "display_data"
    }
   ],
   "source": [
    "#result on test data under sample\n",
    "pred_y = [1 if e > THRESHOLD_FIXED else 0 for e in error_df.Reconstruction_error.values]\n",
    "cm = confusion_matrix(y_test_under, pred_y, normalize='true')\n",
    "disp = ConfusionMatrixDisplay(confusion_matrix=cm, display_labels=[\"not_fraud\", \"fraud\"])\n",
    "disp.plot()\n",
    "plt.show()"
   ]
  },
  {
   "cell_type": "code",
   "execution_count": 214,
   "id": "43556554",
   "metadata": {},
   "outputs": [
    {
     "name": "stdout",
     "output_type": "stream",
     "text": [
      "2671/2671 [==============================] - 4s 2ms/step\n"
     ]
    },
    {
     "data": {
      "text/html": [
       "<div>\n",
       "<style scoped>\n",
       "    .dataframe tbody tr th:only-of-type {\n",
       "        vertical-align: middle;\n",
       "    }\n",
       "\n",
       "    .dataframe tbody tr th {\n",
       "        vertical-align: top;\n",
       "    }\n",
       "\n",
       "    .dataframe thead th {\n",
       "        text-align: right;\n",
       "    }\n",
       "</style>\n",
       "<table border=\"1\" class=\"dataframe\">\n",
       "  <thead>\n",
       "    <tr style=\"text-align: right;\">\n",
       "      <th></th>\n",
       "      <th>Reconstruction_error</th>\n",
       "      <th>True_class</th>\n",
       "    </tr>\n",
       "  </thead>\n",
       "  <tbody>\n",
       "    <tr>\n",
       "      <th>count</th>\n",
       "      <td>85443.000000</td>\n",
       "      <td>85443.000000</td>\n",
       "    </tr>\n",
       "    <tr>\n",
       "      <th>mean</th>\n",
       "      <td>1.033487</td>\n",
       "      <td>0.001720</td>\n",
       "    </tr>\n",
       "    <tr>\n",
       "      <th>std</th>\n",
       "      <td>7.202146</td>\n",
       "      <td>0.041443</td>\n",
       "    </tr>\n",
       "    <tr>\n",
       "      <th>min</th>\n",
       "      <td>0.131293</td>\n",
       "      <td>0.000000</td>\n",
       "    </tr>\n",
       "    <tr>\n",
       "      <th>25%</th>\n",
       "      <td>0.400934</td>\n",
       "      <td>0.000000</td>\n",
       "    </tr>\n",
       "    <tr>\n",
       "      <th>50%</th>\n",
       "      <td>0.616090</td>\n",
       "      <td>0.000000</td>\n",
       "    </tr>\n",
       "    <tr>\n",
       "      <th>75%</th>\n",
       "      <td>0.932163</td>\n",
       "      <td>0.000000</td>\n",
       "    </tr>\n",
       "    <tr>\n",
       "      <th>max</th>\n",
       "      <td>1795.602906</td>\n",
       "      <td>1.000000</td>\n",
       "    </tr>\n",
       "  </tbody>\n",
       "</table>\n",
       "</div>"
      ],
      "text/plain": [
       "       Reconstruction_error    True_class\n",
       "count          85443.000000  85443.000000\n",
       "mean               1.033487      0.001720\n",
       "std                7.202146      0.041443\n",
       "min                0.131293      0.000000\n",
       "25%                0.400934      0.000000\n",
       "50%                0.616090      0.000000\n",
       "75%                0.932163      0.000000\n",
       "max             1795.602906      1.000000"
      ]
     },
     "execution_count": 214,
     "metadata": {},
     "output_type": "execute_result"
    }
   ],
   "source": [
    "#evaluation on test data under sampled\n",
    "train_x_predictions = autoencoder.predict(X_test)\n",
    "mse = np.mean(np.power(X_test - train_x_predictions, 2), axis=1)\n",
    "error_df = pd.DataFrame({'Reconstruction_error': mse,\n",
    "                        'True_class': y_test[\"Class\"]})\n",
    "error_df.describe()"
   ]
  },
  {
   "cell_type": "code",
   "execution_count": 215,
   "id": "105a76b1",
   "metadata": {},
   "outputs": [
    {
     "data": {
      "image/png": "[encoded data removed]",
      "text/plain": [
       "<Figure size 432x288 with 2 Axes>"
      ]
     },
     "metadata": {
      "needs_background": "light"
     },
     "output_type": "display_data"
    }
   ],
   "source": [
    "#result on test data\n",
    "pred_y = [1 if e > THRESHOLD_FIXED else 0 for e in error_df.Reconstruction_error.values]\n",
    "cm = confusion_matrix(y_test, pred_y, normalize='true')\n",
    "disp = ConfusionMatrixDisplay(confusion_matrix=cm, display_labels=[\"not_fraud\", \"fraud\"])\n",
    "disp.plot()\n",
    "plt.show()"
   ]
  },
  {
   "cell_type": "code",
   "execution_count": 216,
   "id": "c56cc778",
   "metadata": {},
   "outputs": [
    {
     "data": {
      "image/png": "[encoded data removed]",
      "text/plain": [
       "<Figure size 432x288 with 2 Axes>"
      ]
     },
     "metadata": {
      "needs_background": "light"
     },
     "output_type": "display_data"
    }
   ],
   "source": [
    "#result on test data\n",
    "pred_y = [1 if e > THRESHOLD_FIXED else 0 for e in error_df.Reconstruction_error.values]\n",
    "cm = confusion_matrix(y_test, pred_y)\n",
    "disp = ConfusionMatrixDisplay(confusion_matrix=cm, display_labels=[\"not_fraud\", \"fraud\"])\n",
    "disp.plot()\n",
    "plt.show()"
   ]
  },
  {
   "cell_type": "code",
   "execution_count": 218,
   "id": "c85eb403",
   "metadata": {},
   "outputs": [
    {
     "name": "stdout",
     "output_type": "stream",
     "text": [
      "accuracy = 0.9696405790995166\n"
     ]
    }
   ],
   "source": [
    "print(\"accuracy = \"+str((82744+105)/len(y_test)))"
   ]
  },
  {
   "cell_type": "code",
   "execution_count": null,
   "id": "19922b5c",
   "metadata": {},
   "outputs": [],
   "source": []
  }
 ],
 "metadata": {
  "kernelspec": {
   "display_name": "Python 3 (ipykernel)",
   "language": "python",
   "name": "python3"
  },
  "language_info": {
   "codemirror_mode": {
    "name": "ipython",
    "version": 3
   },
   "file_extension": ".py",
   "mimetype": "text/x-python",
   "name": "python",
   "nbconvert_exporter": "python",
   "pygments_lexer": "ipython3",
   "version": "3.9.13"
  }
 },
 "nbformat": 4,
 "nbformat_minor": 5
}
